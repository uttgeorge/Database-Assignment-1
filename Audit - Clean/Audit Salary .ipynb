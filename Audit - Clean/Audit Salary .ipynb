{
 "cells": [
  {
   "cell_type": "markdown",
   "metadata": {},
   "source": [
    "# Audit Salary"
   ]
  },
  {
   "cell_type": "markdown",
   "metadata": {},
   "source": [
    "## Import libraries"
   ]
  },
  {
   "cell_type": "code",
   "execution_count": 12,
   "metadata": {},
   "outputs": [],
   "source": [
    "import pandas as pd\n",
    "import numpy as np\n",
    "import matplotlib.pyplot as plt"
   ]
  },
  {
   "cell_type": "markdown",
   "metadata": {},
   "source": [
    "## Read 2017-2018 NBA Regular Season Players' Salary\n"
   ]
  },
  {
   "cell_type": "code",
   "execution_count": 25,
   "metadata": {},
   "outputs": [
    {
     "data": {
      "text/html": [
       "<div>\n",
       "<style scoped>\n",
       "    .dataframe tbody tr th:only-of-type {\n",
       "        vertical-align: middle;\n",
       "    }\n",
       "\n",
       "    .dataframe tbody tr th {\n",
       "        vertical-align: top;\n",
       "    }\n",
       "\n",
       "    .dataframe thead th {\n",
       "        text-align: right;\n",
       "    }\n",
       "</style>\n",
       "<table border=\"1\" class=\"dataframe\">\n",
       "  <thead>\n",
       "    <tr style=\"text-align: right;\">\n",
       "      <th></th>\n",
       "      <th>ID</th>\n",
       "      <th>Player</th>\n",
       "      <th>Tm</th>\n",
       "      <th>season17_18</th>\n",
       "    </tr>\n",
       "  </thead>\n",
       "  <tbody>\n",
       "    <tr>\n",
       "      <th>0</th>\n",
       "      <td>1</td>\n",
       "      <td>Stephen Curry</td>\n",
       "      <td>GSW</td>\n",
       "      <td>34682550.0</td>\n",
       "    </tr>\n",
       "    <tr>\n",
       "      <th>1</th>\n",
       "      <td>2</td>\n",
       "      <td>LeBron James</td>\n",
       "      <td>CLE</td>\n",
       "      <td>33285709.0</td>\n",
       "    </tr>\n",
       "    <tr>\n",
       "      <th>2</th>\n",
       "      <td>3</td>\n",
       "      <td>Paul Millsap</td>\n",
       "      <td>DEN</td>\n",
       "      <td>31269231.0</td>\n",
       "    </tr>\n",
       "    <tr>\n",
       "      <th>3</th>\n",
       "      <td>4</td>\n",
       "      <td>Gordon Hayward</td>\n",
       "      <td>BOS</td>\n",
       "      <td>29727900.0</td>\n",
       "    </tr>\n",
       "    <tr>\n",
       "      <th>4</th>\n",
       "      <td>5</td>\n",
       "      <td>Blake Griffin</td>\n",
       "      <td>DET</td>\n",
       "      <td>29512900.0</td>\n",
       "    </tr>\n",
       "  </tbody>\n",
       "</table>\n",
       "</div>"
      ],
      "text/plain": [
       "   ID          Player   Tm  season17_18\n",
       "0   1   Stephen Curry  GSW   34682550.0\n",
       "1   2    LeBron James  CLE   33285709.0\n",
       "2   3    Paul Millsap  DEN   31269231.0\n",
       "3   4  Gordon Hayward  BOS   29727900.0\n",
       "4   5   Blake Griffin  DET   29512900.0"
      ]
     },
     "execution_count": 25,
     "metadata": {},
     "output_type": "execute_result"
    }
   ],
   "source": [
    "df_sal = pd.read_csv(\"/Users/QiJin/Desktop/Python/NBA_season1718_salary.csv\")\n",
    "df_sal.head()"
   ]
  },
  {
   "cell_type": "markdown",
   "metadata": {},
   "source": [
    "## Read 2017-2018 NBA Regular Season All Star Players List"
   ]
  },
  {
   "cell_type": "code",
   "execution_count": 26,
   "metadata": {},
   "outputs": [
    {
     "data": {
      "text/html": [
       "<div>\n",
       "<style scoped>\n",
       "    .dataframe tbody tr th:only-of-type {\n",
       "        vertical-align: middle;\n",
       "    }\n",
       "\n",
       "    .dataframe tbody tr th {\n",
       "        vertical-align: top;\n",
       "    }\n",
       "\n",
       "    .dataframe thead th {\n",
       "        text-align: right;\n",
       "    }\n",
       "</style>\n",
       "<table border=\"1\" class=\"dataframe\">\n",
       "  <thead>\n",
       "    <tr style=\"text-align: right;\">\n",
       "      <th></th>\n",
       "      <th>Name</th>\n",
       "      <th>PlayerID</th>\n",
       "      <th>Position</th>\n",
       "      <th>Team</th>\n",
       "      <th>TeamID</th>\n",
       "    </tr>\n",
       "  </thead>\n",
       "  <tbody>\n",
       "    <tr>\n",
       "      <th>0</th>\n",
       "      <td>Kyrie Irving</td>\n",
       "      <td>20000574</td>\n",
       "      <td>Scrambled</td>\n",
       "      <td>EAST</td>\n",
       "      <td>31</td>\n",
       "    </tr>\n",
       "    <tr>\n",
       "      <th>1</th>\n",
       "      <td>LeBron James</td>\n",
       "      <td>20000571</td>\n",
       "      <td>Scrambled</td>\n",
       "      <td>EAST</td>\n",
       "      <td>31</td>\n",
       "    </tr>\n",
       "    <tr>\n",
       "      <th>2</th>\n",
       "      <td>Kevin Durant</td>\n",
       "      <td>20000884</td>\n",
       "      <td>Scrambled</td>\n",
       "      <td>EAST</td>\n",
       "      <td>31</td>\n",
       "    </tr>\n",
       "    <tr>\n",
       "      <th>3</th>\n",
       "      <td>LaMarcus Aldridge</td>\n",
       "      <td>20000616</td>\n",
       "      <td>Scrambled</td>\n",
       "      <td>EAST</td>\n",
       "      <td>31</td>\n",
       "    </tr>\n",
       "    <tr>\n",
       "      <th>4</th>\n",
       "      <td>Anthony Davis</td>\n",
       "      <td>20000468</td>\n",
       "      <td>Scrambled</td>\n",
       "      <td>EAST</td>\n",
       "      <td>31</td>\n",
       "    </tr>\n",
       "    <tr>\n",
       "      <th>5</th>\n",
       "      <td>DeMarcus Cousins</td>\n",
       "      <td>20000862</td>\n",
       "      <td>Scrambled</td>\n",
       "      <td>EAST</td>\n",
       "      <td>31</td>\n",
       "    </tr>\n",
       "    <tr>\n",
       "      <th>6</th>\n",
       "      <td>Russell Westbrook</td>\n",
       "      <td>20000877</td>\n",
       "      <td>Scrambled</td>\n",
       "      <td>EAST</td>\n",
       "      <td>31</td>\n",
       "    </tr>\n",
       "    <tr>\n",
       "      <th>7</th>\n",
       "      <td>Bradley Beal</td>\n",
       "      <td>20000441</td>\n",
       "      <td>Scrambled</td>\n",
       "      <td>EAST</td>\n",
       "      <td>31</td>\n",
       "    </tr>\n",
       "    <tr>\n",
       "      <th>8</th>\n",
       "      <td>Victor Oladipo</td>\n",
       "      <td>20000689</td>\n",
       "      <td>Scrambled</td>\n",
       "      <td>EAST</td>\n",
       "      <td>31</td>\n",
       "    </tr>\n",
       "    <tr>\n",
       "      <th>9</th>\n",
       "      <td>Kristaps Porzingis</td>\n",
       "      <td>20001406</td>\n",
       "      <td>Scrambled</td>\n",
       "      <td>EAST</td>\n",
       "      <td>31</td>\n",
       "    </tr>\n",
       "    <tr>\n",
       "      <th>10</th>\n",
       "      <td>John Wall</td>\n",
       "      <td>20000442</td>\n",
       "      <td>Scrambled</td>\n",
       "      <td>EAST</td>\n",
       "      <td>31</td>\n",
       "    </tr>\n",
       "    <tr>\n",
       "      <th>11</th>\n",
       "      <td>Paul George</td>\n",
       "      <td>20000742</td>\n",
       "      <td>Scrambled</td>\n",
       "      <td>EAST</td>\n",
       "      <td>31</td>\n",
       "    </tr>\n",
       "    <tr>\n",
       "      <th>12</th>\n",
       "      <td>Andre Drummond</td>\n",
       "      <td>20000810</td>\n",
       "      <td>Scrambled</td>\n",
       "      <td>EAST</td>\n",
       "      <td>31</td>\n",
       "    </tr>\n",
       "    <tr>\n",
       "      <th>13</th>\n",
       "      <td>Goran Dragic</td>\n",
       "      <td>20000849</td>\n",
       "      <td>Scrambled</td>\n",
       "      <td>EAST</td>\n",
       "      <td>31</td>\n",
       "    </tr>\n",
       "    <tr>\n",
       "      <th>14</th>\n",
       "      <td>Kemba Walker</td>\n",
       "      <td>20000752</td>\n",
       "      <td>Scrambled</td>\n",
       "      <td>EAST</td>\n",
       "      <td>31</td>\n",
       "    </tr>\n",
       "    <tr>\n",
       "      <th>15</th>\n",
       "      <td>Kevin Love</td>\n",
       "      <td>20000572</td>\n",
       "      <td>Scrambled</td>\n",
       "      <td>EAST</td>\n",
       "      <td>31</td>\n",
       "    </tr>\n",
       "    <tr>\n",
       "      <th>16</th>\n",
       "      <td>Kyle Lowry</td>\n",
       "      <td>20000457</td>\n",
       "      <td>Scrambled</td>\n",
       "      <td>WEST</td>\n",
       "      <td>32</td>\n",
       "    </tr>\n",
       "    <tr>\n",
       "      <th>17</th>\n",
       "      <td>Al Horford</td>\n",
       "      <td>20000603</td>\n",
       "      <td>Scrambled</td>\n",
       "      <td>WEST</td>\n",
       "      <td>32</td>\n",
       "    </tr>\n",
       "    <tr>\n",
       "      <th>18</th>\n",
       "      <td>Damian Lillard</td>\n",
       "      <td>20000619</td>\n",
       "      <td>Scrambled</td>\n",
       "      <td>WEST</td>\n",
       "      <td>32</td>\n",
       "    </tr>\n",
       "    <tr>\n",
       "      <th>19</th>\n",
       "      <td>Jimmy Butler</td>\n",
       "      <td>20000515</td>\n",
       "      <td>Scrambled</td>\n",
       "      <td>WEST</td>\n",
       "      <td>32</td>\n",
       "    </tr>\n",
       "    <tr>\n",
       "      <th>20</th>\n",
       "      <td>Draymond Green</td>\n",
       "      <td>20000482</td>\n",
       "      <td>Scrambled</td>\n",
       "      <td>WEST</td>\n",
       "      <td>32</td>\n",
       "    </tr>\n",
       "    <tr>\n",
       "      <th>21</th>\n",
       "      <td>Klay Thompson</td>\n",
       "      <td>20000486</td>\n",
       "      <td>Scrambled</td>\n",
       "      <td>WEST</td>\n",
       "      <td>32</td>\n",
       "    </tr>\n",
       "    <tr>\n",
       "      <th>22</th>\n",
       "      <td>Karl-Anthony Towns</td>\n",
       "      <td>20001431</td>\n",
       "      <td>Scrambled</td>\n",
       "      <td>WEST</td>\n",
       "      <td>32</td>\n",
       "    </tr>\n",
       "    <tr>\n",
       "      <th>23</th>\n",
       "      <td>James Harden</td>\n",
       "      <td>20000544</td>\n",
       "      <td>Scrambled</td>\n",
       "      <td>WEST</td>\n",
       "      <td>32</td>\n",
       "    </tr>\n",
       "    <tr>\n",
       "      <th>24</th>\n",
       "      <td>Giannis Antetokounmpo</td>\n",
       "      <td>20000497</td>\n",
       "      <td>Scrambled</td>\n",
       "      <td>WEST</td>\n",
       "      <td>32</td>\n",
       "    </tr>\n",
       "    <tr>\n",
       "      <th>25</th>\n",
       "      <td>Joel Embiid</td>\n",
       "      <td>20000726</td>\n",
       "      <td>Scrambled</td>\n",
       "      <td>WEST</td>\n",
       "      <td>32</td>\n",
       "    </tr>\n",
       "    <tr>\n",
       "      <th>26</th>\n",
       "      <td>DeMar DeRozan</td>\n",
       "      <td>20000456</td>\n",
       "      <td>Scrambled</td>\n",
       "      <td>WEST</td>\n",
       "      <td>32</td>\n",
       "    </tr>\n",
       "    <tr>\n",
       "      <th>27</th>\n",
       "      <td>Stephen Curry</td>\n",
       "      <td>20000485</td>\n",
       "      <td>Scrambled</td>\n",
       "      <td>WEST</td>\n",
       "      <td>32</td>\n",
       "    </tr>\n",
       "  </tbody>\n",
       "</table>\n",
       "</div>"
      ],
      "text/plain": [
       "                     Name  PlayerID   Position  Team  TeamID\n",
       "0            Kyrie Irving  20000574  Scrambled  EAST      31\n",
       "1            LeBron James  20000571  Scrambled  EAST      31\n",
       "2            Kevin Durant  20000884  Scrambled  EAST      31\n",
       "3       LaMarcus Aldridge  20000616  Scrambled  EAST      31\n",
       "4           Anthony Davis  20000468  Scrambled  EAST      31\n",
       "5        DeMarcus Cousins  20000862  Scrambled  EAST      31\n",
       "6       Russell Westbrook  20000877  Scrambled  EAST      31\n",
       "7            Bradley Beal  20000441  Scrambled  EAST      31\n",
       "8          Victor Oladipo  20000689  Scrambled  EAST      31\n",
       "9      Kristaps Porzingis  20001406  Scrambled  EAST      31\n",
       "10              John Wall  20000442  Scrambled  EAST      31\n",
       "11            Paul George  20000742  Scrambled  EAST      31\n",
       "12         Andre Drummond  20000810  Scrambled  EAST      31\n",
       "13           Goran Dragic  20000849  Scrambled  EAST      31\n",
       "14           Kemba Walker  20000752  Scrambled  EAST      31\n",
       "15             Kevin Love  20000572  Scrambled  EAST      31\n",
       "16             Kyle Lowry  20000457  Scrambled  WEST      32\n",
       "17             Al Horford  20000603  Scrambled  WEST      32\n",
       "18         Damian Lillard  20000619  Scrambled  WEST      32\n",
       "19           Jimmy Butler  20000515  Scrambled  WEST      32\n",
       "20         Draymond Green  20000482  Scrambled  WEST      32\n",
       "21          Klay Thompson  20000486  Scrambled  WEST      32\n",
       "22     Karl-Anthony Towns  20001431  Scrambled  WEST      32\n",
       "23           James Harden  20000544  Scrambled  WEST      32\n",
       "24  Giannis Antetokounmpo  20000497  Scrambled  WEST      32\n",
       "25            Joel Embiid  20000726  Scrambled  WEST      32\n",
       "26          DeMar DeRozan  20000456  Scrambled  WEST      32\n",
       "27          Stephen Curry  20000485  Scrambled  WEST      32"
      ]
     },
     "execution_count": 26,
     "metadata": {},
     "output_type": "execute_result"
    }
   ],
   "source": [
    "df_star = pd.read_csv(\"/Users/QiJin/Desktop/Python/allstar.csv\")\n",
    "df_star"
   ]
  },
  {
   "cell_type": "markdown",
   "metadata": {},
   "source": [
    "In All Star table, all data except **name** are meaningless in our database. So I will delete all star table and add one column in salary table to determine whether the player is one of all star."
   ]
  },
  {
   "cell_type": "code",
   "execution_count": 27,
   "metadata": {},
   "outputs": [],
   "source": [
    "AllStarList = list()"
   ]
  },
  {
   "cell_type": "code",
   "execution_count": 28,
   "metadata": {},
   "outputs": [],
   "source": [
    "for name in list(df_sal['Player']):\n",
    "    if name in list(df_star['Name']):\n",
    "        AllStarList.append('True') \n",
    "    else:\n",
    "        AllStarList.append('False')"
   ]
  },
  {
   "cell_type": "code",
   "execution_count": 29,
   "metadata": {},
   "outputs": [],
   "source": [
    "df_sal['AllStar']= AllStarList"
   ]
  },
  {
   "cell_type": "code",
   "execution_count": 30,
   "metadata": {},
   "outputs": [
    {
     "data": {
      "text/html": [
       "<div>\n",
       "<style scoped>\n",
       "    .dataframe tbody tr th:only-of-type {\n",
       "        vertical-align: middle;\n",
       "    }\n",
       "\n",
       "    .dataframe tbody tr th {\n",
       "        vertical-align: top;\n",
       "    }\n",
       "\n",
       "    .dataframe thead th {\n",
       "        text-align: right;\n",
       "    }\n",
       "</style>\n",
       "<table border=\"1\" class=\"dataframe\">\n",
       "  <thead>\n",
       "    <tr style=\"text-align: right;\">\n",
       "      <th></th>\n",
       "      <th>ID</th>\n",
       "      <th>Player</th>\n",
       "      <th>Tm</th>\n",
       "      <th>season17_18</th>\n",
       "      <th>AllStar</th>\n",
       "    </tr>\n",
       "  </thead>\n",
       "  <tbody>\n",
       "    <tr>\n",
       "      <th>0</th>\n",
       "      <td>1</td>\n",
       "      <td>Stephen Curry</td>\n",
       "      <td>GSW</td>\n",
       "      <td>34682550.0</td>\n",
       "      <td>True</td>\n",
       "    </tr>\n",
       "    <tr>\n",
       "      <th>1</th>\n",
       "      <td>2</td>\n",
       "      <td>LeBron James</td>\n",
       "      <td>CLE</td>\n",
       "      <td>33285709.0</td>\n",
       "      <td>True</td>\n",
       "    </tr>\n",
       "    <tr>\n",
       "      <th>2</th>\n",
       "      <td>3</td>\n",
       "      <td>Paul Millsap</td>\n",
       "      <td>DEN</td>\n",
       "      <td>31269231.0</td>\n",
       "      <td>False</td>\n",
       "    </tr>\n",
       "    <tr>\n",
       "      <th>3</th>\n",
       "      <td>4</td>\n",
       "      <td>Gordon Hayward</td>\n",
       "      <td>BOS</td>\n",
       "      <td>29727900.0</td>\n",
       "      <td>False</td>\n",
       "    </tr>\n",
       "    <tr>\n",
       "      <th>4</th>\n",
       "      <td>5</td>\n",
       "      <td>Blake Griffin</td>\n",
       "      <td>DET</td>\n",
       "      <td>29512900.0</td>\n",
       "      <td>False</td>\n",
       "    </tr>\n",
       "  </tbody>\n",
       "</table>\n",
       "</div>"
      ],
      "text/plain": [
       "   ID          Player   Tm  season17_18 AllStar\n",
       "0   1   Stephen Curry  GSW   34682550.0    True\n",
       "1   2    LeBron James  CLE   33285709.0    True\n",
       "2   3    Paul Millsap  DEN   31269231.0   False\n",
       "3   4  Gordon Hayward  BOS   29727900.0   False\n",
       "4   5   Blake Griffin  DET   29512900.0   False"
      ]
     },
     "execution_count": 30,
     "metadata": {},
     "output_type": "execute_result"
    }
   ],
   "source": [
    "df_sal.head()"
   ]
  },
  {
   "cell_type": "markdown",
   "metadata": {},
   "source": [
    "In our database, ID can not be the index for searching players in other tables. So I will delete ID column"
   ]
  },
  {
   "cell_type": "code",
   "execution_count": 31,
   "metadata": {},
   "outputs": [],
   "source": [
    "df = df_sal.drop(['ID'], axis=1)\n"
   ]
  },
  {
   "cell_type": "markdown",
   "metadata": {},
   "source": [
    "And Change the title of **Tm** and **season17_18** to **Team** and **Salary** to be consistent with other tables."
   ]
  },
  {
   "cell_type": "code",
   "execution_count": 32,
   "metadata": {},
   "outputs": [
    {
     "data": {
      "text/html": [
       "<div>\n",
       "<style scoped>\n",
       "    .dataframe tbody tr th:only-of-type {\n",
       "        vertical-align: middle;\n",
       "    }\n",
       "\n",
       "    .dataframe tbody tr th {\n",
       "        vertical-align: top;\n",
       "    }\n",
       "\n",
       "    .dataframe thead th {\n",
       "        text-align: right;\n",
       "    }\n",
       "</style>\n",
       "<table border=\"1\" class=\"dataframe\">\n",
       "  <thead>\n",
       "    <tr style=\"text-align: right;\">\n",
       "      <th></th>\n",
       "      <th>Team</th>\n",
       "      <th>Salary</th>\n",
       "      <th>AllStar</th>\n",
       "    </tr>\n",
       "    <tr>\n",
       "      <th>Player</th>\n",
       "      <th></th>\n",
       "      <th></th>\n",
       "      <th></th>\n",
       "    </tr>\n",
       "  </thead>\n",
       "  <tbody>\n",
       "    <tr>\n",
       "      <th>Stephen Curry</th>\n",
       "      <td>GSW</td>\n",
       "      <td>34682550.0</td>\n",
       "      <td>True</td>\n",
       "    </tr>\n",
       "    <tr>\n",
       "      <th>LeBron James</th>\n",
       "      <td>CLE</td>\n",
       "      <td>33285709.0</td>\n",
       "      <td>True</td>\n",
       "    </tr>\n",
       "    <tr>\n",
       "      <th>Paul Millsap</th>\n",
       "      <td>DEN</td>\n",
       "      <td>31269231.0</td>\n",
       "      <td>False</td>\n",
       "    </tr>\n",
       "    <tr>\n",
       "      <th>Gordon Hayward</th>\n",
       "      <td>BOS</td>\n",
       "      <td>29727900.0</td>\n",
       "      <td>False</td>\n",
       "    </tr>\n",
       "    <tr>\n",
       "      <th>Blake Griffin</th>\n",
       "      <td>DET</td>\n",
       "      <td>29512900.0</td>\n",
       "      <td>False</td>\n",
       "    </tr>\n",
       "  </tbody>\n",
       "</table>\n",
       "</div>"
      ],
      "text/plain": [
       "               Team      Salary AllStar\n",
       "Player                                 \n",
       "Stephen Curry   GSW  34682550.0    True\n",
       "LeBron James    CLE  33285709.0    True\n",
       "Paul Millsap    DEN  31269231.0   False\n",
       "Gordon Hayward  BOS  29727900.0   False\n",
       "Blake Griffin   DET  29512900.0   False"
      ]
     },
     "execution_count": 32,
     "metadata": {},
     "output_type": "execute_result"
    }
   ],
   "source": [
    "df.rename({'Tm': 'Team', 'season17_18': 'Salary'},axis='columns',inplace= True)\n",
    "df= df.set_index(['Player'])\n",
    "df.head()"
   ]
  },
  {
   "cell_type": "markdown",
   "metadata": {},
   "source": [
    "## Check the size of Data"
   ]
  },
  {
   "cell_type": "code",
   "execution_count": 33,
   "metadata": {},
   "outputs": [
    {
     "data": {
      "text/plain": [
       "(573, 3)"
      ]
     },
     "execution_count": 33,
     "metadata": {},
     "output_type": "execute_result"
    }
   ],
   "source": [
    "df.shape"
   ]
  },
  {
   "cell_type": "code",
   "execution_count": 34,
   "metadata": {},
   "outputs": [
    {
     "data": {
      "text/plain": [
       "Team       0\n",
       "Salary     0\n",
       "AllStar    0\n",
       "dtype: int64"
      ]
     },
     "execution_count": 34,
     "metadata": {},
     "output_type": "execute_result"
    }
   ],
   "source": [
    "df.isnull().sum()"
   ]
  },
  {
   "cell_type": "markdown",
   "metadata": {},
   "source": [
    "#### Perfect!"
   ]
  },
  {
   "cell_type": "code",
   "execution_count": 35,
   "metadata": {},
   "outputs": [
    {
     "data": {
      "text/plain": [
       "{'whiskers': [<matplotlib.lines.Line2D at 0x1a170dee80>,\n",
       "  <matplotlib.lines.Line2D at 0x1a170def28>],\n",
       " 'caps': [<matplotlib.lines.Line2D at 0x1a170e7710>,\n",
       "  <matplotlib.lines.Line2D at 0x1a170e7b38>],\n",
       " 'boxes': [<matplotlib.lines.Line2D at 0x1a170de940>],\n",
       " 'medians': [<matplotlib.lines.Line2D at 0x1a170e7f60>],\n",
       " 'fliers': [<matplotlib.lines.Line2D at 0x1a1706e3c8>],\n",
       " 'means': []}"
      ]
     },
     "execution_count": 35,
     "metadata": {},
     "output_type": "execute_result"
    },
    {
     "data": {
      "image/png": "[encoded data removed]",
      "text/plain": [
       "<Figure size 432x288 with 1 Axes>"
      ]
     },
     "metadata": {
      "needs_background": "light"
     },
     "output_type": "display_data"
    }
   ],
   "source": [
    "plt.boxplot(df['Salary'])"
   ]
  },
  {
   "cell_type": "markdown",
   "metadata": {},
   "source": [
    "To check whether the data is correct, we choose to compare the salary of all stars with the data from internet."
   ]
  },
  {
   "cell_type": "code",
   "execution_count": 36,
   "metadata": {},
   "outputs": [],
   "source": [
    "df2 = df[df['AllStar'] == 'True']"
   ]
  },
  {
   "cell_type": "code",
   "execution_count": 37,
   "metadata": {},
   "outputs": [
    {
     "data": {
      "text/html": [
       "<div>\n",
       "<style scoped>\n",
       "    .dataframe tbody tr th:only-of-type {\n",
       "        vertical-align: middle;\n",
       "    }\n",
       "\n",
       "    .dataframe tbody tr th {\n",
       "        vertical-align: top;\n",
       "    }\n",
       "\n",
       "    .dataframe thead th {\n",
       "        text-align: right;\n",
       "    }\n",
       "</style>\n",
       "<table border=\"1\" class=\"dataframe\">\n",
       "  <thead>\n",
       "    <tr style=\"text-align: right;\">\n",
       "      <th></th>\n",
       "      <th>Salary</th>\n",
       "    </tr>\n",
       "    <tr>\n",
       "      <th>Player</th>\n",
       "      <th></th>\n",
       "    </tr>\n",
       "  </thead>\n",
       "  <tbody>\n",
       "    <tr>\n",
       "      <th>Stephen Curry</th>\n",
       "      <td>34682550.0</td>\n",
       "    </tr>\n",
       "    <tr>\n",
       "      <th>LeBron James</th>\n",
       "      <td>33285709.0</td>\n",
       "    </tr>\n",
       "    <tr>\n",
       "      <th>Kyle Lowry</th>\n",
       "      <td>28703704.0</td>\n",
       "    </tr>\n",
       "    <tr>\n",
       "      <th>Russell Westbrook</th>\n",
       "      <td>28530608.0</td>\n",
       "    </tr>\n",
       "    <tr>\n",
       "      <th>James Harden</th>\n",
       "      <td>28299399.0</td>\n",
       "    </tr>\n",
       "    <tr>\n",
       "      <th>DeMar DeRozan</th>\n",
       "      <td>27739975.0</td>\n",
       "    </tr>\n",
       "    <tr>\n",
       "      <th>Al Horford</th>\n",
       "      <td>27734405.0</td>\n",
       "    </tr>\n",
       "    <tr>\n",
       "      <th>Damian Lillard</th>\n",
       "      <td>26153057.0</td>\n",
       "    </tr>\n",
       "    <tr>\n",
       "      <th>Kevin Durant</th>\n",
       "      <td>25000000.0</td>\n",
       "    </tr>\n",
       "    <tr>\n",
       "      <th>Bradley Beal</th>\n",
       "      <td>23775506.0</td>\n",
       "    </tr>\n",
       "    <tr>\n",
       "      <th>Anthony Davis</th>\n",
       "      <td>23775506.0</td>\n",
       "    </tr>\n",
       "    <tr>\n",
       "      <th>Andre Drummond</th>\n",
       "      <td>23775506.0</td>\n",
       "    </tr>\n",
       "    <tr>\n",
       "      <th>Kevin Love</th>\n",
       "      <td>22642350.0</td>\n",
       "    </tr>\n",
       "    <tr>\n",
       "      <th>Giannis Antetokounmpo</th>\n",
       "      <td>22471910.0</td>\n",
       "    </tr>\n",
       "    <tr>\n",
       "      <th>LaMarcus Aldridge</th>\n",
       "      <td>21461010.0</td>\n",
       "    </tr>\n",
       "    <tr>\n",
       "      <th>Victor Oladipo</th>\n",
       "      <td>21000000.0</td>\n",
       "    </tr>\n",
       "    <tr>\n",
       "      <th>Paul George</th>\n",
       "      <td>19508958.0</td>\n",
       "    </tr>\n",
       "    <tr>\n",
       "      <th>Jimmy Butler</th>\n",
       "      <td>19301070.0</td>\n",
       "    </tr>\n",
       "    <tr>\n",
       "      <th>Kyrie Irving</th>\n",
       "      <td>18868625.0</td>\n",
       "    </tr>\n",
       "    <tr>\n",
       "      <th>John Wall</th>\n",
       "      <td>18063850.0</td>\n",
       "    </tr>\n",
       "    <tr>\n",
       "      <th>DeMarcus Cousins</th>\n",
       "      <td>18063850.0</td>\n",
       "    </tr>\n",
       "    <tr>\n",
       "      <th>Klay Thompson</th>\n",
       "      <td>17826150.0</td>\n",
       "    </tr>\n",
       "    <tr>\n",
       "      <th>Goran Dragic</th>\n",
       "      <td>17000450.0</td>\n",
       "    </tr>\n",
       "    <tr>\n",
       "      <th>Draymond Green</th>\n",
       "      <td>16400000.0</td>\n",
       "    </tr>\n",
       "    <tr>\n",
       "      <th>Kemba Walker</th>\n",
       "      <td>12000000.0</td>\n",
       "    </tr>\n",
       "    <tr>\n",
       "      <th>Karl-Anthony Towns</th>\n",
       "      <td>6216840.0</td>\n",
       "    </tr>\n",
       "    <tr>\n",
       "      <th>Joel Embiid</th>\n",
       "      <td>6100266.0</td>\n",
       "    </tr>\n",
       "    <tr>\n",
       "      <th>Kristaps Porzingis</th>\n",
       "      <td>4503600.0</td>\n",
       "    </tr>\n",
       "  </tbody>\n",
       "</table>\n",
       "</div>"
      ],
      "text/plain": [
       "                           Salary\n",
       "Player                           \n",
       "Stephen Curry          34682550.0\n",
       "LeBron James           33285709.0\n",
       "Kyle Lowry             28703704.0\n",
       "Russell Westbrook      28530608.0\n",
       "James Harden           28299399.0\n",
       "DeMar DeRozan          27739975.0\n",
       "Al Horford             27734405.0\n",
       "Damian Lillard         26153057.0\n",
       "Kevin Durant           25000000.0\n",
       "Bradley Beal           23775506.0\n",
       "Anthony Davis          23775506.0\n",
       "Andre Drummond         23775506.0\n",
       "Kevin Love             22642350.0\n",
       "Giannis Antetokounmpo  22471910.0\n",
       "LaMarcus Aldridge      21461010.0\n",
       "Victor Oladipo         21000000.0\n",
       "Paul George            19508958.0\n",
       "Jimmy Butler           19301070.0\n",
       "Kyrie Irving           18868625.0\n",
       "John Wall              18063850.0\n",
       "DeMarcus Cousins       18063850.0\n",
       "Klay Thompson          17826150.0\n",
       "Goran Dragic           17000450.0\n",
       "Draymond Green         16400000.0\n",
       "Kemba Walker           12000000.0\n",
       "Karl-Anthony Towns      6216840.0\n",
       "Joel Embiid             6100266.0\n",
       "Kristaps Porzingis      4503600.0"
      ]
     },
     "execution_count": 37,
     "metadata": {},
     "output_type": "execute_result"
    }
   ],
   "source": [
    "df2.loc[:,['Salary']]"
   ]
  },
  {
   "cell_type": "markdown",
   "metadata": {},
   "source": [
    "Compare with Wikipedia, they are correct!"
   ]
  },
  {
   "cell_type": "code",
   "execution_count": 38,
   "metadata": {},
   "outputs": [
    {
     "data": {
      "text/plain": [
       "2386864.0"
      ]
     },
     "execution_count": 38,
     "metadata": {},
     "output_type": "execute_result"
    }
   ],
   "source": [
    "df['Salary'].median()"
   ]
  },
  {
   "cell_type": "code",
   "execution_count": 39,
   "metadata": {},
   "outputs": [
    {
     "data": {
      "text/plain": [
       "5858945.886561954"
      ]
     },
     "execution_count": 39,
     "metadata": {},
     "output_type": "execute_result"
    }
   ],
   "source": [
    "df['Salary'].mean()"
   ]
  },
  {
   "cell_type": "code",
   "execution_count": 40,
   "metadata": {},
   "outputs": [
    {
     "data": {
      "text/plain": [
       "34682550.0"
      ]
     },
     "execution_count": 40,
     "metadata": {},
     "output_type": "execute_result"
    }
   ],
   "source": [
    "df['Salary'].max()"
   ]
  },
  {
   "cell_type": "code",
   "execution_count": 41,
   "metadata": {},
   "outputs": [
    {
     "data": {
      "text/plain": [
       "17224.0"
      ]
     },
     "execution_count": 41,
     "metadata": {},
     "output_type": "execute_result"
    }
   ],
   "source": [
    "df['Salary'].min()"
   ]
  },
  {
   "cell_type": "code",
   "execution_count": 42,
   "metadata": {},
   "outputs": [
    {
     "data": {
      "text/plain": [
       "<matplotlib.axes._subplots.AxesSubplot at 0x1a170a6cc0>"
      ]
     },
     "execution_count": 42,
     "metadata": {},
     "output_type": "execute_result"
    },
    {
     "data": {
      "image/png": "[encoded data removed]",
      "text/plain": [
       "<Figure size 432x288 with 1 Axes>"
      ]
     },
     "metadata": {
      "needs_background": "light"
     },
     "output_type": "display_data"
    }
   ],
   "source": [
    "fig, ax = plt.subplots()\n",
    "hist = plt.hist(df['Salary'],density=True)\n",
    "df.plot.kde(ax=ax, legend=True)\n"
   ]
  },
  {
   "cell_type": "markdown",
   "metadata": {},
   "source": [
    "This makes scense because salaries between NBA players are extremely high."
   ]
  },
  {
   "cell_type": "markdown",
   "metadata": {},
   "source": [
    "## Write to a new csv file!"
   ]
  },
  {
   "cell_type": "code",
   "execution_count": 43,
   "metadata": {},
   "outputs": [],
   "source": [
    "df.to_csv(\"/Users/QiJin/Desktop/Python/NBA_salary.csv\",index=True)"
   ]
  },
  {
   "cell_type": "markdown",
   "metadata": {},
   "source": [
    "## Done!"
   ]
  },
  {
   "cell_type": "code",
   "execution_count": null,
   "metadata": {},
   "outputs": [],
   "source": []
  },
  {
   "cell_type": "code",
   "execution_count": null,
   "metadata": {},
   "outputs": [],
   "source": []
  }
 ],
 "metadata": {
  "kernelspec": {
   "display_name": "Python 3",
   "language": "python",
   "name": "python3"
  },
  "language_info": {
   "codemirror_mode": {
    "name": "ipython",
    "version": 3
   },
   "file_extension": ".py",
   "mimetype": "text/x-python",
   "name": "python",
   "nbconvert_exporter": "python",
   "pygments_lexer": "ipython3",
   "version": "3.7.2"
  }
 },
 "nbformat": 4,
 "nbformat_minor": 2
}
