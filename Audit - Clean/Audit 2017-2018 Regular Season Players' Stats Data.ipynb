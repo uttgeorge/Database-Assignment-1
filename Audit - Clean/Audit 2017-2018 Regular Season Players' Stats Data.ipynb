{
 "cells": [
  {
   "cell_type": "code",
   "execution_count": 65,
   "metadata": {},
   "outputs": [],
   "source": [
    "import pandas as pd\n",
    "import numpy as np\n",
    "import matplotlib.pyplot as plt"
   ]
  },
  {
   "cell_type": "markdown",
   "metadata": {},
   "source": [
    "Read 2017-2018 NBA Regular Season Players' Stats"
   ]
  },
  {
   "cell_type": "code",
   "execution_count": 66,
   "metadata": {},
   "outputs": [
    {
     "data": {
      "text/html": [
       "<div>\n",
       "<style scoped>\n",
       "    .dataframe tbody tr th:only-of-type {\n",
       "        vertical-align: middle;\n",
       "    }\n",
       "\n",
       "    .dataframe tbody tr th {\n",
       "        vertical-align: top;\n",
       "    }\n",
       "\n",
       "    .dataframe thead th {\n",
       "        text-align: right;\n",
       "    }\n",
       "</style>\n",
       "<table border=\"1\" class=\"dataframe\">\n",
       "  <thead>\n",
       "    <tr style=\"text-align: right;\">\n",
       "      <th></th>\n",
       "      <th>#</th>\n",
       "      <th>Player</th>\n",
       "      <th>Team</th>\n",
       "      <th>GP</th>\n",
       "      <th>MPG</th>\n",
       "      <th>FGM</th>\n",
       "      <th>FGA</th>\n",
       "      <th>FG%</th>\n",
       "      <th>3PM</th>\n",
       "      <th>3PA</th>\n",
       "      <th>...</th>\n",
       "      <th>FT%</th>\n",
       "      <th>TOV</th>\n",
       "      <th>PF</th>\n",
       "      <th>ORB</th>\n",
       "      <th>DRB</th>\n",
       "      <th>RPG</th>\n",
       "      <th>APG</th>\n",
       "      <th>SPG</th>\n",
       "      <th>BPG</th>\n",
       "      <th>PPG</th>\n",
       "    </tr>\n",
       "  </thead>\n",
       "  <tbody>\n",
       "    <tr>\n",
       "      <th>0</th>\n",
       "      <td>1</td>\n",
       "      <td>James Harden</td>\n",
       "      <td>HOU</td>\n",
       "      <td>72</td>\n",
       "      <td>35.4</td>\n",
       "      <td>9.0</td>\n",
       "      <td>20.1</td>\n",
       "      <td>0.449</td>\n",
       "      <td>3.7</td>\n",
       "      <td>10.0</td>\n",
       "      <td>...</td>\n",
       "      <td>0.858</td>\n",
       "      <td>4.4</td>\n",
       "      <td>2.3</td>\n",
       "      <td>0.6</td>\n",
       "      <td>4.8</td>\n",
       "      <td>5.4</td>\n",
       "      <td>8.8</td>\n",
       "      <td>1.8</td>\n",
       "      <td>0.7</td>\n",
       "      <td>30.4</td>\n",
       "    </tr>\n",
       "    <tr>\n",
       "      <th>1</th>\n",
       "      <td>2</td>\n",
       "      <td>Anthony Davis</td>\n",
       "      <td>NOP</td>\n",
       "      <td>75</td>\n",
       "      <td>36.4</td>\n",
       "      <td>10.4</td>\n",
       "      <td>19.5</td>\n",
       "      <td>0.534</td>\n",
       "      <td>0.7</td>\n",
       "      <td>2.2</td>\n",
       "      <td>...</td>\n",
       "      <td>0.828</td>\n",
       "      <td>2.2</td>\n",
       "      <td>2.1</td>\n",
       "      <td>2.5</td>\n",
       "      <td>8.6</td>\n",
       "      <td>11.1</td>\n",
       "      <td>2.3</td>\n",
       "      <td>1.5</td>\n",
       "      <td>2.6</td>\n",
       "      <td>28.1</td>\n",
       "    </tr>\n",
       "    <tr>\n",
       "      <th>2</th>\n",
       "      <td>3</td>\n",
       "      <td>LeBron James</td>\n",
       "      <td>CLE</td>\n",
       "      <td>82</td>\n",
       "      <td>36.9</td>\n",
       "      <td>10.5</td>\n",
       "      <td>19.3</td>\n",
       "      <td>0.542</td>\n",
       "      <td>1.8</td>\n",
       "      <td>5.0</td>\n",
       "      <td>...</td>\n",
       "      <td>0.731</td>\n",
       "      <td>4.2</td>\n",
       "      <td>1.7</td>\n",
       "      <td>1.2</td>\n",
       "      <td>7.5</td>\n",
       "      <td>8.6</td>\n",
       "      <td>9.1</td>\n",
       "      <td>1.4</td>\n",
       "      <td>0.9</td>\n",
       "      <td>27.5</td>\n",
       "    </tr>\n",
       "    <tr>\n",
       "      <th>3</th>\n",
       "      <td>4</td>\n",
       "      <td>Damian Lillard</td>\n",
       "      <td>POR</td>\n",
       "      <td>73</td>\n",
       "      <td>36.6</td>\n",
       "      <td>8.5</td>\n",
       "      <td>19.4</td>\n",
       "      <td>0.439</td>\n",
       "      <td>3.1</td>\n",
       "      <td>8.6</td>\n",
       "      <td>...</td>\n",
       "      <td>0.916</td>\n",
       "      <td>2.8</td>\n",
       "      <td>1.6</td>\n",
       "      <td>0.8</td>\n",
       "      <td>3.6</td>\n",
       "      <td>4.5</td>\n",
       "      <td>6.6</td>\n",
       "      <td>1.1</td>\n",
       "      <td>0.4</td>\n",
       "      <td>26.9</td>\n",
       "    </tr>\n",
       "    <tr>\n",
       "      <th>4</th>\n",
       "      <td>5</td>\n",
       "      <td>Giannis Antetokounmpo</td>\n",
       "      <td>MIL</td>\n",
       "      <td>75</td>\n",
       "      <td>36.8</td>\n",
       "      <td>9.9</td>\n",
       "      <td>18.7</td>\n",
       "      <td>0.529</td>\n",
       "      <td>0.6</td>\n",
       "      <td>1.9</td>\n",
       "      <td>...</td>\n",
       "      <td>0.760</td>\n",
       "      <td>3.0</td>\n",
       "      <td>3.1</td>\n",
       "      <td>2.1</td>\n",
       "      <td>8.0</td>\n",
       "      <td>10.0</td>\n",
       "      <td>4.8</td>\n",
       "      <td>1.5</td>\n",
       "      <td>1.4</td>\n",
       "      <td>26.9</td>\n",
       "    </tr>\n",
       "  </tbody>\n",
       "</table>\n",
       "<p>5 rows × 23 columns</p>\n",
       "</div>"
      ],
      "text/plain": [
       "   #                 Player Team  GP   MPG   FGM   FGA    FG%  3PM   3PA  \\\n",
       "0  1           James Harden  HOU  72  35.4   9.0  20.1  0.449  3.7  10.0   \n",
       "1  2          Anthony Davis  NOP  75  36.4  10.4  19.5  0.534  0.7   2.2   \n",
       "2  3           LeBron James  CLE  82  36.9  10.5  19.3  0.542  1.8   5.0   \n",
       "3  4         Damian Lillard  POR  73  36.6   8.5  19.4  0.439  3.1   8.6   \n",
       "4  5  Giannis Antetokounmpo  MIL  75  36.8   9.9  18.7  0.529  0.6   1.9   \n",
       "\n",
       "   ...     FT%  TOV   PF  ORB  DRB   RPG  APG  SPG  BPG   PPG  \n",
       "0  ...   0.858  4.4  2.3  0.6  4.8   5.4  8.8  1.8  0.7  30.4  \n",
       "1  ...   0.828  2.2  2.1  2.5  8.6  11.1  2.3  1.5  2.6  28.1  \n",
       "2  ...   0.731  4.2  1.7  1.2  7.5   8.6  9.1  1.4  0.9  27.5  \n",
       "3  ...   0.916  2.8  1.6  0.8  3.6   4.5  6.6  1.1  0.4  26.9  \n",
       "4  ...   0.760  3.0  3.1  2.1  8.0  10.0  4.8  1.5  1.4  26.9  \n",
       "\n",
       "[5 rows x 23 columns]"
      ]
     },
     "execution_count": 66,
     "metadata": {},
     "output_type": "execute_result"
    }
   ],
   "source": [
    "df = pd.read_csv(\"/Users/QiJin/Desktop/Python/2017-2018 NBA Stats.csv\")\n",
    "df.head()"
   ]
  },
  {
   "cell_type": "markdown",
   "metadata": {},
   "source": [
    "Step 1: Check data size"
   ]
  },
  {
   "cell_type": "code",
   "execution_count": 67,
   "metadata": {},
   "outputs": [
    {
     "data": {
      "text/plain": [
       "(279, 23)"
      ]
     },
     "execution_count": 67,
     "metadata": {},
     "output_type": "execute_result"
    }
   ],
   "source": [
    "df.shape"
   ]
  },
  {
   "cell_type": "markdown",
   "metadata": {},
   "source": [
    "Step 2: Check missing data"
   ]
  },
  {
   "cell_type": "code",
   "execution_count": 68,
   "metadata": {},
   "outputs": [
    {
     "data": {
      "text/plain": [
       "#         0\n",
       "Player    0\n",
       "Team      0\n",
       "GP        0\n",
       "MPG       0\n",
       "FGM       0\n",
       "FGA       0\n",
       "FG%       0\n",
       "3PM       0\n",
       "3PA       0\n",
       "3P%       0\n",
       "FTM       0\n",
       "FTA       0\n",
       "FT%       0\n",
       "TOV       0\n",
       "PF        0\n",
       "ORB       0\n",
       "DRB       0\n",
       "RPG       0\n",
       "APG       0\n",
       "SPG       0\n",
       "BPG       0\n",
       "PPG       0\n",
       "dtype: int64"
      ]
     },
     "execution_count": 68,
     "metadata": {},
     "output_type": "execute_result"
    }
   ],
   "source": [
    "df.isnull().sum()"
   ]
  },
  {
   "cell_type": "markdown",
   "metadata": {},
   "source": [
    "This dataset is perfect! It doesn’t need cleaning"
   ]
  },
  {
   "cell_type": "markdown",
   "metadata": {},
   "source": [
    "Step 3: Audit data\n"
   ]
  },
  {
   "cell_type": "markdown",
   "metadata": {},
   "source": [
    "3.1 Accuracy"
   ]
  },
  {
   "cell_type": "markdown",
   "metadata": {},
   "source": [
    "Plot the boxplot of Points Per Game of each player."
   ]
  },
  {
   "cell_type": "code",
   "execution_count": 81,
   "metadata": {},
   "outputs": [
    {
     "data": {
      "text/plain": [
       "{'whiskers': [<matplotlib.lines.Line2D at 0x11b697dd8>,\n",
       "  <matplotlib.lines.Line2D at 0x11b697ba8>],\n",
       " 'caps': [<matplotlib.lines.Line2D at 0x11b697d68>,\n",
       "  <matplotlib.lines.Line2D at 0x11b4e1208>],\n",
       " 'boxes': [<matplotlib.lines.Line2D at 0x11b62d5f8>],\n",
       " 'medians': [<matplotlib.lines.Line2D at 0x11b4e1400>],\n",
       " 'fliers': [<matplotlib.lines.Line2D at 0x11b4e19e8>],\n",
       " 'means': []}"
      ]
     },
     "execution_count": 81,
     "metadata": {},
     "output_type": "execute_result"
    },
    {
     "data": {
      "image/png": "[encoded data removed]",
      "text/plain": [
       "<Figure size 432x288 with 1 Axes>"
      ]
     },
     "metadata": {
      "needs_background": "light"
     },
     "output_type": "display_data"
    }
   ],
   "source": [
    "plt.boxplot(df['PPG'])"
   ]
  },
  {
   "cell_type": "markdown",
   "metadata": {},
   "source": [
    "There are some outliers, let's check who are them."
   ]
  },
  {
   "cell_type": "code",
   "execution_count": 82,
   "metadata": {},
   "outputs": [
    {
     "data": {
      "text/html": [
       "<div>\n",
       "<style scoped>\n",
       "    .dataframe tbody tr th:only-of-type {\n",
       "        vertical-align: middle;\n",
       "    }\n",
       "\n",
       "    .dataframe tbody tr th {\n",
       "        vertical-align: top;\n",
       "    }\n",
       "\n",
       "    .dataframe thead th {\n",
       "        text-align: right;\n",
       "    }\n",
       "</style>\n",
       "<table border=\"1\" class=\"dataframe\">\n",
       "  <thead>\n",
       "    <tr style=\"text-align: right;\">\n",
       "      <th></th>\n",
       "      <th>#</th>\n",
       "      <th>Player</th>\n",
       "      <th>Team</th>\n",
       "      <th>GP</th>\n",
       "      <th>MPG</th>\n",
       "      <th>FGM</th>\n",
       "      <th>FGA</th>\n",
       "      <th>FG%</th>\n",
       "      <th>3PM</th>\n",
       "      <th>3PA</th>\n",
       "      <th>...</th>\n",
       "      <th>FT%</th>\n",
       "      <th>TOV</th>\n",
       "      <th>PF</th>\n",
       "      <th>ORB</th>\n",
       "      <th>DRB</th>\n",
       "      <th>RPG</th>\n",
       "      <th>APG</th>\n",
       "      <th>SPG</th>\n",
       "      <th>BPG</th>\n",
       "      <th>PPG</th>\n",
       "    </tr>\n",
       "  </thead>\n",
       "  <tbody>\n",
       "    <tr>\n",
       "      <th>0</th>\n",
       "      <td>1</td>\n",
       "      <td>James Harden</td>\n",
       "      <td>HOU</td>\n",
       "      <td>72</td>\n",
       "      <td>35.4</td>\n",
       "      <td>9.0</td>\n",
       "      <td>20.1</td>\n",
       "      <td>0.449</td>\n",
       "      <td>3.7</td>\n",
       "      <td>10.0</td>\n",
       "      <td>...</td>\n",
       "      <td>0.858</td>\n",
       "      <td>4.4</td>\n",
       "      <td>2.3</td>\n",
       "      <td>0.6</td>\n",
       "      <td>4.8</td>\n",
       "      <td>5.4</td>\n",
       "      <td>8.8</td>\n",
       "      <td>1.8</td>\n",
       "      <td>0.7</td>\n",
       "      <td>30.4</td>\n",
       "    </tr>\n",
       "    <tr>\n",
       "      <th>1</th>\n",
       "      <td>2</td>\n",
       "      <td>Anthony Davis</td>\n",
       "      <td>NOP</td>\n",
       "      <td>75</td>\n",
       "      <td>36.4</td>\n",
       "      <td>10.4</td>\n",
       "      <td>19.5</td>\n",
       "      <td>0.534</td>\n",
       "      <td>0.7</td>\n",
       "      <td>2.2</td>\n",
       "      <td>...</td>\n",
       "      <td>0.828</td>\n",
       "      <td>2.2</td>\n",
       "      <td>2.1</td>\n",
       "      <td>2.5</td>\n",
       "      <td>8.6</td>\n",
       "      <td>11.1</td>\n",
       "      <td>2.3</td>\n",
       "      <td>1.5</td>\n",
       "      <td>2.6</td>\n",
       "      <td>28.1</td>\n",
       "    </tr>\n",
       "    <tr>\n",
       "      <th>2</th>\n",
       "      <td>3</td>\n",
       "      <td>LeBron James</td>\n",
       "      <td>CLE</td>\n",
       "      <td>82</td>\n",
       "      <td>36.9</td>\n",
       "      <td>10.5</td>\n",
       "      <td>19.3</td>\n",
       "      <td>0.542</td>\n",
       "      <td>1.8</td>\n",
       "      <td>5.0</td>\n",
       "      <td>...</td>\n",
       "      <td>0.731</td>\n",
       "      <td>4.2</td>\n",
       "      <td>1.7</td>\n",
       "      <td>1.2</td>\n",
       "      <td>7.5</td>\n",
       "      <td>8.6</td>\n",
       "      <td>9.1</td>\n",
       "      <td>1.4</td>\n",
       "      <td>0.9</td>\n",
       "      <td>27.5</td>\n",
       "    </tr>\n",
       "    <tr>\n",
       "      <th>3</th>\n",
       "      <td>4</td>\n",
       "      <td>Damian Lillard</td>\n",
       "      <td>POR</td>\n",
       "      <td>73</td>\n",
       "      <td>36.6</td>\n",
       "      <td>8.5</td>\n",
       "      <td>19.4</td>\n",
       "      <td>0.439</td>\n",
       "      <td>3.1</td>\n",
       "      <td>8.6</td>\n",
       "      <td>...</td>\n",
       "      <td>0.916</td>\n",
       "      <td>2.8</td>\n",
       "      <td>1.6</td>\n",
       "      <td>0.8</td>\n",
       "      <td>3.6</td>\n",
       "      <td>4.5</td>\n",
       "      <td>6.6</td>\n",
       "      <td>1.1</td>\n",
       "      <td>0.4</td>\n",
       "      <td>26.9</td>\n",
       "    </tr>\n",
       "    <tr>\n",
       "      <th>4</th>\n",
       "      <td>5</td>\n",
       "      <td>Giannis Antetokounmpo</td>\n",
       "      <td>MIL</td>\n",
       "      <td>75</td>\n",
       "      <td>36.8</td>\n",
       "      <td>9.9</td>\n",
       "      <td>18.7</td>\n",
       "      <td>0.529</td>\n",
       "      <td>0.6</td>\n",
       "      <td>1.9</td>\n",
       "      <td>...</td>\n",
       "      <td>0.760</td>\n",
       "      <td>3.0</td>\n",
       "      <td>3.1</td>\n",
       "      <td>2.1</td>\n",
       "      <td>8.0</td>\n",
       "      <td>10.0</td>\n",
       "      <td>4.8</td>\n",
       "      <td>1.5</td>\n",
       "      <td>1.4</td>\n",
       "      <td>26.9</td>\n",
       "    </tr>\n",
       "    <tr>\n",
       "      <th>5</th>\n",
       "      <td>6</td>\n",
       "      <td>Stephen Curry</td>\n",
       "      <td>GSW</td>\n",
       "      <td>51</td>\n",
       "      <td>32.0</td>\n",
       "      <td>8.4</td>\n",
       "      <td>16.9</td>\n",
       "      <td>0.495</td>\n",
       "      <td>4.2</td>\n",
       "      <td>9.8</td>\n",
       "      <td>...</td>\n",
       "      <td>0.921</td>\n",
       "      <td>3.0</td>\n",
       "      <td>2.2</td>\n",
       "      <td>0.7</td>\n",
       "      <td>4.4</td>\n",
       "      <td>5.1</td>\n",
       "      <td>6.1</td>\n",
       "      <td>1.6</td>\n",
       "      <td>0.2</td>\n",
       "      <td>26.4</td>\n",
       "    </tr>\n",
       "    <tr>\n",
       "      <th>6</th>\n",
       "      <td>7</td>\n",
       "      <td>Kevin Durant</td>\n",
       "      <td>GSW</td>\n",
       "      <td>68</td>\n",
       "      <td>34.2</td>\n",
       "      <td>9.3</td>\n",
       "      <td>18.0</td>\n",
       "      <td>0.516</td>\n",
       "      <td>2.5</td>\n",
       "      <td>6.1</td>\n",
       "      <td>...</td>\n",
       "      <td>0.889</td>\n",
       "      <td>3.0</td>\n",
       "      <td>2.0</td>\n",
       "      <td>0.5</td>\n",
       "      <td>6.4</td>\n",
       "      <td>6.8</td>\n",
       "      <td>5.4</td>\n",
       "      <td>0.7</td>\n",
       "      <td>1.8</td>\n",
       "      <td>26.4</td>\n",
       "    </tr>\n",
       "    <tr>\n",
       "      <th>7</th>\n",
       "      <td>8</td>\n",
       "      <td>Russell Westbrook</td>\n",
       "      <td>OKC</td>\n",
       "      <td>80</td>\n",
       "      <td>36.4</td>\n",
       "      <td>9.5</td>\n",
       "      <td>21.1</td>\n",
       "      <td>0.449</td>\n",
       "      <td>1.2</td>\n",
       "      <td>4.1</td>\n",
       "      <td>...</td>\n",
       "      <td>0.737</td>\n",
       "      <td>4.8</td>\n",
       "      <td>2.5</td>\n",
       "      <td>1.9</td>\n",
       "      <td>8.2</td>\n",
       "      <td>10.1</td>\n",
       "      <td>10.2</td>\n",
       "      <td>1.8</td>\n",
       "      <td>0.2</td>\n",
       "      <td>25.4</td>\n",
       "    </tr>\n",
       "    <tr>\n",
       "      <th>8</th>\n",
       "      <td>9</td>\n",
       "      <td>Kyrie Irving</td>\n",
       "      <td>BOS</td>\n",
       "      <td>60</td>\n",
       "      <td>32.2</td>\n",
       "      <td>8.9</td>\n",
       "      <td>18.1</td>\n",
       "      <td>0.491</td>\n",
       "      <td>2.8</td>\n",
       "      <td>6.8</td>\n",
       "      <td>...</td>\n",
       "      <td>0.889</td>\n",
       "      <td>2.3</td>\n",
       "      <td>2.0</td>\n",
       "      <td>0.6</td>\n",
       "      <td>3.2</td>\n",
       "      <td>3.8</td>\n",
       "      <td>5.1</td>\n",
       "      <td>1.1</td>\n",
       "      <td>0.3</td>\n",
       "      <td>24.4</td>\n",
       "    </tr>\n",
       "  </tbody>\n",
       "</table>\n",
       "<p>9 rows × 23 columns</p>\n",
       "</div>"
      ],
      "text/plain": [
       "   #                 Player Team  GP   MPG   FGM   FGA    FG%  3PM   3PA  \\\n",
       "0  1           James Harden  HOU  72  35.4   9.0  20.1  0.449  3.7  10.0   \n",
       "1  2          Anthony Davis  NOP  75  36.4  10.4  19.5  0.534  0.7   2.2   \n",
       "2  3           LeBron James  CLE  82  36.9  10.5  19.3  0.542  1.8   5.0   \n",
       "3  4         Damian Lillard  POR  73  36.6   8.5  19.4  0.439  3.1   8.6   \n",
       "4  5  Giannis Antetokounmpo  MIL  75  36.8   9.9  18.7  0.529  0.6   1.9   \n",
       "5  6          Stephen Curry  GSW  51  32.0   8.4  16.9  0.495  4.2   9.8   \n",
       "6  7           Kevin Durant  GSW  68  34.2   9.3  18.0  0.516  2.5   6.1   \n",
       "7  8      Russell Westbrook  OKC  80  36.4   9.5  21.1  0.449  1.2   4.1   \n",
       "8  9           Kyrie Irving  BOS  60  32.2   8.9  18.1  0.491  2.8   6.8   \n",
       "\n",
       "   ...     FT%  TOV   PF  ORB  DRB   RPG   APG  SPG  BPG   PPG  \n",
       "0  ...   0.858  4.4  2.3  0.6  4.8   5.4   8.8  1.8  0.7  30.4  \n",
       "1  ...   0.828  2.2  2.1  2.5  8.6  11.1   2.3  1.5  2.6  28.1  \n",
       "2  ...   0.731  4.2  1.7  1.2  7.5   8.6   9.1  1.4  0.9  27.5  \n",
       "3  ...   0.916  2.8  1.6  0.8  3.6   4.5   6.6  1.1  0.4  26.9  \n",
       "4  ...   0.760  3.0  3.1  2.1  8.0  10.0   4.8  1.5  1.4  26.9  \n",
       "5  ...   0.921  3.0  2.2  0.7  4.4   5.1   6.1  1.6  0.2  26.4  \n",
       "6  ...   0.889  3.0  2.0  0.5  6.4   6.8   5.4  0.7  1.8  26.4  \n",
       "7  ...   0.737  4.8  2.5  1.9  8.2  10.1  10.2  1.8  0.2  25.4  \n",
       "8  ...   0.889  2.3  2.0  0.6  3.2   3.8   5.1  1.1  0.3  24.4  \n",
       "\n",
       "[9 rows x 23 columns]"
      ]
     },
     "execution_count": 82,
     "metadata": {},
     "output_type": "execute_result"
    }
   ],
   "source": [
    "df.loc[df['PPG']>24]"
   ]
  },
  {
   "cell_type": "markdown",
   "metadata": {},
   "source": [
    "All of these players are the best players, and much better than others. So it makes scense why there are some outliers."
   ]
  },
  {
   "cell_type": "markdown",
   "metadata": {},
   "source": [
    "If exclude those outliers, then plot the histogram of Filed Goal Made per Game"
   ]
  },
  {
   "cell_type": "code",
   "execution_count": 83,
   "metadata": {},
   "outputs": [],
   "source": [
    "df2 = df.loc[df['PPG']<=24]"
   ]
  },
  {
   "cell_type": "code",
   "execution_count": 84,
   "metadata": {},
   "outputs": [
    {
     "data": {
      "text/plain": [
       "10.448148148148158"
      ]
     },
     "execution_count": 84,
     "metadata": {},
     "output_type": "execute_result"
    }
   ],
   "source": [
    "df2['PPG'].mean()"
   ]
  },
  {
   "cell_type": "code",
   "execution_count": 85,
   "metadata": {},
   "outputs": [
    {
     "data": {
      "text/plain": [
       "10.0"
      ]
     },
     "execution_count": 85,
     "metadata": {},
     "output_type": "execute_result"
    }
   ],
   "source": [
    "df2['PPG'].median()"
   ]
  },
  {
   "cell_type": "markdown",
   "metadata": {},
   "source": [
    "Mean value and median value are quite close, so that seems plausible."
   ]
  },
  {
   "cell_type": "markdown",
   "metadata": {},
   "source": [
    "Check the data type"
   ]
  },
  {
   "cell_type": "markdown",
   "metadata": {},
   "source": [
    "3.2 Data type"
   ]
  },
  {
   "cell_type": "code",
   "execution_count": 91,
   "metadata": {},
   "outputs": [
    {
     "data": {
      "text/plain": [
       "#           int64\n",
       "Player     object\n",
       "Team       object\n",
       "GP          int64\n",
       "MPG       float64\n",
       "FGM       float64\n",
       "FGA       float64\n",
       "FG%       float64\n",
       "3PM       float64\n",
       "3PA       float64\n",
       "3P%       float64\n",
       "FTM       float64\n",
       "FTA       float64\n",
       "FT%       float64\n",
       "TOV       float64\n",
       "PF        float64\n",
       "ORB       float64\n",
       "DRB       float64\n",
       "RPG       float64\n",
       "APG       float64\n",
       "SPG       float64\n",
       "BPG       float64\n",
       "PPG       float64\n",
       "dtype: object"
      ]
     },
     "execution_count": 91,
     "metadata": {},
     "output_type": "execute_result"
    }
   ],
   "source": [
    "df.dtypes"
   ]
  },
  {
   "cell_type": "markdown",
   "metadata": {},
   "source": [
    "Perfect!"
   ]
  },
  {
   "cell_type": "code",
   "execution_count": null,
   "metadata": {},
   "outputs": [],
   "source": []
  }
 ],
 "metadata": {
  "kernelspec": {
   "display_name": "Python 3",
   "language": "python",
   "name": "python3"
  },
  "language_info": {
   "codemirror_mode": {
    "name": "ipython",
    "version": 3
   },
   "file_extension": ".py",
   "mimetype": "text/x-python",
   "name": "python",
   "nbconvert_exporter": "python",
   "pygments_lexer": "ipython3",
   "version": "3.7.2"
  }
 },
 "nbformat": 4,
 "nbformat_minor": 2
}
