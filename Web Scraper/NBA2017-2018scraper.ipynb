{
 "cells": [
  {
   "cell_type": "markdown",
   "metadata": {},
   "source": [
    "# Web Scraper of RealGM.com"
   ]
  },
  {
   "cell_type": "markdown",
   "metadata": {},
   "source": [
    "### Import libraries"
   ]
  },
  {
   "cell_type": "code",
   "execution_count": 12,
   "metadata": {},
   "outputs": [],
   "source": [
    "import requests\n",
    "from urllib.request import urlopen\n",
    "from bs4 import BeautifulSoup\n",
    "import pandas as pd\n",
    "import re"
   ]
  },
  {
   "cell_type": "markdown",
   "metadata": {},
   "source": [
    "### Read the html file"
   ]
  },
  {
   "cell_type": "code",
   "execution_count": 13,
   "metadata": {},
   "outputs": [],
   "source": [
    "URL = '/nba/stats/2018/Averages/All/points/All/desc/1/Regular_Season'\n",
    "response = requests.get('https://basketball.realgm.com/nba/stats/2018/Averages/All/points/All/desc/1/Regular_Season')\n",
    "soup = BeautifulSoup(response.content,'html.parser')"
   ]
  },
  {
   "cell_type": "markdown",
   "metadata": {},
   "source": [
    "##### Another solution\n",
    "#response = urlopen('https://basketball.realgm.com{}'.format(URL))\n",
    "#soup = BeautifulSoup(html,'html.parser')"
   ]
  },
  {
   "cell_type": "markdown",
   "metadata": {},
   "source": [
    "### Create a pandas dataframe with the heads from URL"
   ]
  },
  {
   "cell_type": "code",
   "execution_count": 14,
   "metadata": {},
   "outputs": [],
   "source": [
    "head = soup.find('table',{'class':'tablesaw compact'}).find('thead').find('tr')\n",
    "trnames = head.find_all('th')\n",
    "names = [th.text for th in trnames]\n",
    "df = pd.DataFrame(columns=names)"
   ]
  },
  {
   "cell_type": "code",
   "execution_count": 15,
   "metadata": {},
   "outputs": [
    {
     "name": "stdout",
     "output_type": "stream",
     "text": [
      "Empty DataFrame\n",
      "Columns: [#, Player, Team, GP, MPG, FGM, FGA, FG%, 3PM, 3PA, 3P%, FTM, FTA, FT%, TOV, PF, ORB, DRB, RPG, APG, SPG, BPG, PPG]\n",
      "Index: []\n",
      "\n",
      "[0 rows x 23 columns]\n"
     ]
    }
   ],
   "source": [
    "print(df)"
   ]
  },
  {
   "cell_type": "markdown",
   "metadata": {},
   "source": [
    "## To avoid scraping same web, we set a null page to record all URLs. \n",
    "\n",
    "This is because in reallife, most web pages are just contain a portion of information, we have to click next page to find more info. We set a null set call 'pages' to record all these websites. Once a webpage have been searched, it will be recorded in 'pages', so we will not search this website again."
   ]
  },
  {
   "cell_type": "code",
   "execution_count": 16,
   "metadata": {},
   "outputs": [],
   "source": [
    "pages = set()\n",
    "pages.add(URL)"
   ]
  },
  {
   "cell_type": "markdown",
   "metadata": {},
   "source": [
    "##### define the function of scraper"
   ]
  },
  {
   "cell_type": "code",
   "execution_count": 17,
   "metadata": {},
   "outputs": [],
   "source": [
    "def getLinks(myUrl):\n",
    "    global pages\n",
    "    global df\n",
    "    html = urlopen('https://basketball.realgm.com{}'.format(myUrl))\n",
    "    bs = BeautifulSoup(html,'html.parser')\n",
    "    table = bs.find('table',{'class':'tablesaw compact'}).find('tbody')\n",
    "    trs = table.find_all('tr')\n",
    "    for tr in trs:\n",
    "        tds = tr.find_all('td')\n",
    "        row = [td.text for td in tds]\n",
    "        df = df.append(pd.Series(row,index=names),ignore_index=True)   \n",
    "# Here re.compile is to search any url link that match the form in (), \n",
    "# \".*\" means matching any characters.\n",
    "    for link in bs.find('div',{'class':'main-container'}).find_all('a',href\\\n",
    "    =re.compile('^(/nba/stats/2018/Averages/All/points/All/desc/.*/Regular_Season)')):\n",
    "        if 'href' in link.attrs:\n",
    "            if link.attrs['href'] not in pages:\n",
    "                newPage = link.attrs['href']\n",
    "                print('-'*20)\n",
    "                print(newPage)\n",
    "                pages.add(newPage)\n",
    "                getLinks(newPage)\n",
    "\n",
    "\n"
   ]
  },
  {
   "cell_type": "markdown",
   "metadata": {},
   "source": [
    "##### Now input the first url link of NBA players stats, it will automatically return all data from this url link and following pages."
   ]
  },
  {
   "cell_type": "code",
   "execution_count": 18,
   "metadata": {},
   "outputs": [
    {
     "name": "stdout",
     "output_type": "stream",
     "text": [
      "--------------------\n",
      "/nba/stats/2018/Averages/All/points/All/desc/2/Regular_Season\n",
      "--------------------\n",
      "/nba/stats/2018/Averages/All/points/All/desc/3/Regular_Season\n",
      "--------------------\n",
      "/nba/stats/2018/Averages/All/points/All/desc/4/Regular_Season\n",
      "--------------------\n",
      "/nba/stats/2018/Averages/All/points/All/desc/5/Regular_Season\n",
      "--------------------\n",
      "/nba/stats/2018/Averages/All/points/All/desc/6/Regular_Season\n"
     ]
    }
   ],
   "source": [
    "getLinks(URL)"
   ]
  },
  {
   "cell_type": "markdown",
   "metadata": {},
   "source": [
    "##### Save the dataframe as csv file"
   ]
  },
  {
   "cell_type": "code",
   "execution_count": 19,
   "metadata": {},
   "outputs": [
    {
     "name": "stdout",
     "output_type": "stream",
     "text": [
      "       #                 Player Team  GP   MPG   FGM   FGA   FG%  3PM   3PA  \\\n",
      "0      1           James Harden  HOU  72  35.4   9.0  20.1  .449  3.7  10.0   \n",
      "1      2          Anthony Davis  NOP  75  36.4  10.4  19.5  .534  0.7   2.2   \n",
      "2      3           LeBron James  CLE  82  36.9  10.5  19.3  .542  1.8   5.0   \n",
      "3      4         Damian Lillard  POR  73  36.6   8.5  19.4  .439  3.1   8.6   \n",
      "4      5  Giannis Antetokounmpo  MIL  75  36.8   9.9  18.7  .529  0.6   1.9   \n",
      "5      6          Stephen Curry  GSW  51  32.0   8.4  16.9  .495  4.2   9.8   \n",
      "6      7           Kevin Durant  GSW  68  34.2   9.3  18.0  .516  2.5   6.1   \n",
      "7      8      Russell Westbrook  OKC  80  36.4   9.5  21.1  .449  1.2   4.1   \n",
      "8      9       DeMarcus Cousins  NOP  48  36.2   8.5  18.0  .470  2.2   6.1   \n",
      "9     10           Devin Booker  PHX  54  34.5   8.4  19.5  .432  2.7   7.1   \n",
      "10    11           Kyrie Irving  BOS  60  32.2   8.9  18.1  .491  2.8   6.8   \n",
      "11    12      LaMarcus Aldridge  SAS  75  33.4   9.2  18.0  .510  0.4   1.2   \n",
      "12    13         Victor Oladipo  IND  75  34.0   8.5  17.9  .477  2.1   5.8   \n",
      "13    14          DeMar DeRozan  TOR  80  33.9   8.1  17.7  .456  1.1   3.6   \n",
      "14    15            Joel Embiid  PHI  63  30.4   8.1  16.8  .483  1.0   3.4   \n",
      "15    16     Kristaps Porzingis  NYK  48  32.4   8.1  18.5  .439  1.9   4.8   \n",
      "16    17           Bradley Beal  WAS  82  36.3   8.3  18.1  .460  2.4   6.5   \n",
      "17    18           Lou Williams  LAC  79  32.8   7.4  16.9  .435  2.4   6.6   \n",
      "18    19           Jimmy Butler  MIN  59  36.7   7.4  15.6  .474  1.2   3.4   \n",
      "19    20           Kemba Walker  CHA  80  34.2   7.3  17.0  .431  2.9   7.5   \n",
      "20    21            Paul George  OKC  79  36.6   7.3  17.0  .430  3.1   7.7   \n",
      "21    22          Blake Griffin  DET  58  34.0   7.5  17.2  .438  1.9   5.6   \n",
      "22    23          C.J. McCollum  POR  81  36.1   8.2  18.6  .443  2.3   5.9   \n",
      "23    24     Karl-Anthony Towns  MIN  82  35.6   7.8  14.3  .545  1.5   3.5   \n",
      "24    25       Donovan Mitchell  UTA  79  33.4   7.5  17.2  .437  2.4   7.0   \n",
      "25    26        Khris Middleton  MIL  82  36.4   7.2  15.5  .466  1.8   5.0   \n",
      "26    27         MarShon Brooks  MEM   7  27.5   7.3  14.6  .500  2.7   4.6   \n",
      "27    28          Klay Thompson  GSW  73  34.3   7.9  16.1  .488  3.1   7.1   \n",
      "28    29            T.J. Warren  PHX  65  33.0   8.1  16.4  .498  0.3   1.4   \n",
      "29    30              John Wall  WAS  41  34.4   6.8  16.3  .420  1.5   4.1   \n",
      "..   ...                    ...  ...  ..   ...   ...   ...   ...  ...   ...   \n",
      "510  511          Georges Niang  UTA   9   3.5   0.4   1.2  .364  0.0   0.4   \n",
      "511  512           Reggie Hearn  DET   3   2.2   0.3   0.7  .500  0.3   0.7   \n",
      "512  513            P.J. Dozier  OKC   2   1.6   0.5   1.0  .500  0.0   0.0   \n",
      "513  514       Derrick Williams  LAL   2   4.3   0.5   2.0  .250  0.0   1.0   \n",
      "514  515          Scotty Hopson  DAL   1   8.4   0.0   1.0  .000  0.0   0.0   \n",
      "515  516            Jake Layman  POR  35   4.6   0.4   1.3  .298  0.1   0.6   \n",
      "516  517            D.J. Wilson  MIL  22   3.2   0.4   0.7  .562  0.1   0.2   \n",
      "517  518           Tony Bradley  UTA   9   3.2   0.3   1.2  .273  0.0   0.1   \n",
      "518  519           Julyan Stone  CHA  23   7.6   0.3   0.6  .462  0.3   0.6   \n",
      "519  520             Jake Wiley  BRK   5   6.7   0.2   0.8  .250  0.2   0.4   \n",
      "520  521             Josh Smith  NOP   3   3.9   0.3   1.3  .250  0.0   0.0   \n",
      "521  522           Jacob Pullen  PHI   3   2.0   0.3   0.7  .500  0.0   0.3   \n",
      "522  523            Vander Blue  LAL   5   9.0   0.2   1.0  .200  0.0   0.4   \n",
      "523  524           Cole Aldrich  MIN  21   2.3   0.2   0.7  .333  0.0   0.0   \n",
      "524  525          Udonis Haslem  MIA  14   5.1   0.2   1.1  .200  0.1   0.6   \n",
      "525  526       London Perrantes  CLE  14   4.7   0.1   0.9  .154  0.0   0.2   \n",
      "526  527         Xavier Munford  MIL   6   3.5   0.2   1.0  .167  0.0   0.3   \n",
      "527  528          Charles Cooke  NOP  13   2.9   0.2   1.1  .143  0.1   0.6   \n",
      "528  529           Nate Wolters  UTA   5   3.8   0.2   1.2  .167  0.0   0.0   \n",
      "529  530       Nicolas Brussino  ATL   4   2.5   0.0   0.5  .000  0.0   0.5   \n",
      "530  531           Jarell Eddie  CHI   3   2.9   0.0   0.7  .000  0.0   0.7   \n",
      "531  532          Chris Boucher  GSW   1   1.3   0.0   1.0  .000  0.0   1.0   \n",
      "532  533           Xavier Silas  BOS   2   3.7   0.0   1.5  .000  0.0   1.0   \n",
      "533  534            Tyler Lydon  DEN   1   2.2   0.0   0.0  .000  0.0   0.0   \n",
      "534  535    Trey McKinney Jones  IND   1   1.2   0.0   0.0  .000  0.0   0.0   \n",
      "535  536              Ben Moore  IND   2   4.6   0.0   0.0  .000  0.0   0.0   \n",
      "536  537            Erik McCree  UTA   4   1.9   0.0   0.5  .000  0.0   0.2   \n",
      "537  538           Luis Montero  DET   2   4.0   0.0   0.5  .000  0.0   0.0   \n",
      "538  539   Mindaugas Kuzminskas  NYK   1   1.9   0.0   2.0  .000  0.0   0.0   \n",
      "539  540         Josh McRoberts  DAL   2   2.9   0.0   0.5  .000  0.0   0.5   \n",
      "\n",
      "     ...     FT%  TOV   PF  ORB   DRB   RPG   APG  SPG  BPG   PPG  \n",
      "0    ...    .858  4.4  2.3  0.6   4.8   5.4   8.8  1.8  0.7  30.4  \n",
      "1    ...    .828  2.2  2.1  2.5   8.6  11.1   2.3  1.5  2.6  28.1  \n",
      "2    ...    .731  4.2  1.7  1.2   7.5   8.6   9.1  1.4  0.9  27.5  \n",
      "3    ...    .916  2.8  1.6  0.8   3.6   4.5   6.6  1.1  0.4  26.9  \n",
      "4    ...    .760  3.0  3.1  2.1   8.0  10.0   4.8  1.5  1.4  26.9  \n",
      "5    ...    .921  3.0  2.2  0.7   4.4   5.1   6.1  1.6  0.2  26.4  \n",
      "6    ...    .889  3.0  2.0  0.5   6.4   6.8   5.4  0.7  1.8  26.4  \n",
      "7    ...    .737  4.8  2.5  1.9   8.2  10.1  10.2  1.8  0.2  25.4  \n",
      "8    ...    .746  5.0  3.8  2.2  10.7  12.9   5.4  1.7  1.6  25.2  \n",
      "9    ...    .878  3.6  3.1  0.5   4.0   4.5   4.7  0.9  0.3  24.9  \n",
      "10   ...    .889  2.3  2.0  0.6   3.2   3.8   5.1  1.1  0.3  24.4  \n",
      "11   ...    .837  1.5  2.1  3.3   5.2   8.5   2.0  0.6  1.2  23.1  \n",
      "12   ...    .799  2.9  2.3  0.6   4.6   5.2   4.3  2.4  0.8  23.1  \n",
      "13   ...    .825  2.2  1.9  0.7   3.2   3.9   5.2  1.1  0.3  23.0  \n",
      "14   ...    .769  3.7  3.3  2.3   8.7  11.0   3.2  0.6  1.8  22.9  \n",
      "15   ...    .793  1.9  2.9  1.3   5.3   6.6   1.2  0.8  2.4  22.7  \n",
      "16   ...    .791  2.6  2.0  0.7   3.7   4.4   4.5  1.2  0.4  22.6  \n",
      "17   ...    .880  3.0  1.3  0.5   2.0   2.5   5.3  1.1  0.2  22.6  \n",
      "18   ...    .854  1.8  1.3  1.3   4.0   5.3   4.9  2.0  0.4  22.2  \n",
      "19   ...    .864  2.2  1.2  0.4   2.7   3.1   5.5  1.1  0.3  22.1  \n",
      "20   ...    .822  2.7  2.9  0.9   4.7   5.7   3.3  2.0  0.5  21.9  \n",
      "21   ...    .785  2.8  2.4  1.3   6.1   7.4   5.8  0.7  0.3  21.4  \n",
      "22   ...    .836  1.9  2.1  0.7   3.3   4.0   3.4  1.0  0.4  21.4  \n",
      "23   ...    .858  1.9  3.5  2.9   9.4  12.3   2.4  0.8  1.4  21.3  \n",
      "24   ...    .805  2.7  2.7  0.7   3.1   3.7   3.7  1.5  0.3  20.5  \n",
      "25   ...    .884  2.3  3.3  0.5   4.7   5.2   4.0  1.5  0.3  20.1  \n",
      "26   ...    .870  2.3  0.9  1.1   1.9   3.0   3.6  1.6  0.4  20.1  \n",
      "27   ...    .837  1.8  1.6  0.4   3.4   3.8   2.5  0.8  0.5  20.0  \n",
      "28   ...    .757  1.3  2.3  1.9   3.2   5.1   1.3  1.0  0.6  19.6  \n",
      "29   ...    .726  3.9  2.0  0.5   3.1   3.7   9.6  1.4  1.1  19.4  \n",
      "..   ...     ...  ...  ...  ...   ...   ...   ...  ...  ...   ...  \n",
      "510  ...    .500  0.3  0.1  0.3   0.7   1.0   0.3  0.2  0.0   1.0  \n",
      "511  ...    .000  0.0  0.0  0.0   0.0   0.0   0.0  0.0  0.0   1.0  \n",
      "512  ...    .000  0.5  0.5  0.0   0.5   0.5   0.0  0.0  0.0   1.0  \n",
      "513  ...    .000  0.0  0.0  0.0   0.5   0.5   0.0  0.0  0.0   1.0  \n",
      "514  ...    .500  1.0  0.0  0.0   0.0   0.0   1.0  0.0  0.0   1.0  \n",
      "515  ...    .667  0.1  0.4  0.1   0.3   0.5   0.3  0.2  0.1   1.0  \n",
      "516  ...    .500  0.2  0.3  0.1   0.4   0.5   0.1  0.1  0.0   1.0  \n",
      "517  ...   1.000  0.0  0.1  0.4   0.8   1.2   0.1  0.0  0.0   0.9  \n",
      "518  ...    .500  0.3  0.9  0.0   1.2   1.3   1.1  0.2  0.1   0.8  \n",
      "519  ...    .500  0.0  0.8  0.4   1.8   2.2   0.4  0.2  0.0   0.8  \n",
      "520  ...    .000  0.0  1.0  1.0   0.3   1.3   0.0  0.0  0.0   0.7  \n",
      "521  ...    .000  0.3  0.0  0.0   0.0   0.0   0.0  0.0  0.0   0.7  \n",
      "522  ...    .500  0.6  0.4  0.0   0.2   0.2   0.6  0.2  0.0   0.6  \n",
      "523  ...    .333  0.0  0.5  0.1   0.6   0.7   0.1  0.1  0.0   0.6  \n",
      "524  ...    .500  0.1  0.2  0.2   0.5   0.7   0.4  0.0  0.1   0.6  \n",
      "525  ...    .600  0.1  0.4  0.1   0.2   0.3   0.4  0.1  0.1   0.5  \n",
      "526  ...    .500  0.3  0.7  0.2   0.0   0.2   0.7  0.2  0.0   0.5  \n",
      "527  ...    .500  0.1  0.0  0.0   0.2   0.2   0.1  0.1  0.0   0.5  \n",
      "528  ...    .000  0.0  0.2  0.2   0.2   0.4   0.2  0.0  0.0   0.4  \n",
      "529  ...    .000  0.0  0.0  0.0   0.8   0.8   0.0  0.0  0.0   0.0  \n",
      "530  ...    .000  0.0  0.0  0.0   0.3   0.3   0.0  0.3  0.0   0.0  \n",
      "531  ...    .000  0.0  0.0  0.0   1.0   1.0   0.0  0.0  0.0   0.0  \n",
      "532  ...    .000  0.0  0.5  0.5   0.5   1.0   0.0  0.5  0.0   0.0  \n",
      "533  ...    .000  0.0  0.0  0.0   0.0   0.0   0.0  0.0  0.0   0.0  \n",
      "534  ...    .000  0.0  0.0  0.0   0.0   0.0   0.0  0.0  0.0   0.0  \n",
      "535  ...    .000  0.0  2.0  0.0   0.5   0.5   0.5  0.0  0.0   0.0  \n",
      "536  ...    .000  0.2  0.0  0.0   0.2   0.2   0.0  0.2  0.0   0.0  \n",
      "537  ...    .000  1.0  0.0  0.0   1.0   1.0   0.0  0.0  0.0   0.0  \n",
      "538  ...    .000  0.0  0.0  0.0   0.0   0.0   0.0  0.0  0.0   0.0  \n",
      "539  ...    .000  0.0  1.0  0.0   0.0   0.0   0.0  0.0  0.0   0.0  \n",
      "\n",
      "[540 rows x 23 columns]\n"
     ]
    }
   ],
   "source": [
    "print(df)\n",
    "df.to_csv('2017-2018 NBA Stats.csv',index=False)"
   ]
  },
  {
   "cell_type": "markdown",
   "metadata": {},
   "source": [
    "Done!"
   ]
  },
  {
   "cell_type": "code",
   "execution_count": null,
   "metadata": {},
   "outputs": [],
   "source": []
  }
 ],
 "metadata": {
  "kernelspec": {
   "display_name": "Python 3",
   "language": "python",
   "name": "python3"
  },
  "language_info": {
   "codemirror_mode": {
    "name": "ipython",
    "version": 3
   },
   "file_extension": ".py",
   "mimetype": "text/x-python",
   "name": "python",
   "nbconvert_exporter": "python",
   "pygments_lexer": "ipython3",
   "version": "3.7.2"
  }
 },
 "nbformat": 4,
 "nbformat_minor": 2
}
