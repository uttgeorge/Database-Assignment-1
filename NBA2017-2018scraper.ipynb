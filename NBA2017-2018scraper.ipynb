{
 "cells": [
  {
   "cell_type": "code",
   "execution_count": 137,
   "metadata": {},
   "outputs": [],
   "source": [
    "import requests\n",
    "from urllib.request import urlopen\n",
    "from bs4 import BeautifulSoup\n",
    "import pandas as pd\n",
    "import re\n",
    "URL = '/nba/stats/2018/Averages/Qualified/points/All/desc/1/Regular_Season'\n",
    "response = requests.get('https://basketball.realgm.com/nba/stats/2018/Averages/Qualified/points/All/desc/1/Regular_Season')\n",
    "soup = BeautifulSoup(response.content,'html.parser')\n",
    "#response = urlopen('https://basketball.realgm.com{}'.format(URL))\n",
    "#soup = BeautifulSoup(html,'html.parser')\n",
    "#URL = '/nba/stats/2018/Averages/Qualified/points/All/desc/1/Regular_Season'\n",
    "head = soup.find('table',{'class':'tablesaw compact'}).find('thead').find('tr')\n",
    "trnames = head.find_all('th')\n",
    "names = [th.text for th in trnames]\n",
    "df = pd.DataFrame(columns=names)"
   ]
  },
  {
   "cell_type": "code",
   "execution_count": 133,
   "metadata": {},
   "outputs": [
    {
     "name": "stdout",
     "output_type": "stream",
     "text": [
      "Empty DataFrame\n",
      "Columns: [#, Player, Team, GP, MPG, FGM, FGA, FG%, 3PM, 3PA, 3P%, FTM, FTA, FT%, TOV, PF, ORB, DRB, RPG, APG, SPG, BPG, PPG]\n",
      "Index: []\n",
      "\n",
      "[0 rows x 23 columns]\n"
     ]
    }
   ],
   "source": [
    "print(df)\n",
    "pages = set()\n",
    "pages.add(URL)"
   ]
  },
  {
   "cell_type": "code",
   "execution_count": 134,
   "metadata": {},
   "outputs": [],
   "source": [
    "def getLinks(myUrl):\n",
    "    global pages\n",
    "    global df\n",
    "    html = urlopen('https://basketball.realgm.com{}'.format(myUrl))\n",
    "    bs = BeautifulSoup(html,'html.parser')\n",
    "#href=\"/nba/stats/2019/Averages/Qualified/points/All/desc/2/Regular_Season\"\n",
    "    table = bs.find('table',{'class':'tablesaw compact'}).find('tbody')\n",
    "    trs = table.find_all('tr')\n",
    "    for tr in trs:\n",
    "        tds = tr.find_all('td')\n",
    "        row = [td.text for td in tds]\n",
    "        #.replace('\\n','')\n",
    "        #td.text\n",
    "        df = df.append(pd.Series(row,index=names),ignore_index=True)    \n",
    "    for link in bs.find('div',{'class':'main-container'}).find('div').find('p').find_all('a'):\n",
    "        if 'href' in link.attrs:\n",
    "            if link.attrs['href'] not in pages:\n",
    "                newPage = link.attrs['href']\n",
    "                print('-'*20)\n",
    "                print(newPage)\n",
    "                pages.add(newPage)\n",
    "                getLinks(newPage)\n",
    "         #for link in soup.find('div',id = 'site-takeover').find('div','class'='has_class_but_no_id').find('p').find('a',href=re.compile\\\n",
    "     #     ('^(/nba/stats/2019/Averages/Qualified/points/All/desc/.*/Regular_Season)')):\n",
    "\n",
    "\n"
   ]
  },
  {
   "cell_type": "code",
   "execution_count": 135,
   "metadata": {},
   "outputs": [
    {
     "name": "stdout",
     "output_type": "stream",
     "text": [
      "--------------------\n",
      "/nba/stats/2018/Averages/Qualified/points/All/desc/2/Regular_Season\n",
      "--------------------\n",
      "/nba/stats/2018/Averages/Qualified/points/All/desc/3/Regular_Season\n"
     ]
    }
   ],
   "source": [
    "getLinks(URL)"
   ]
  },
  {
   "cell_type": "code",
   "execution_count": 136,
   "metadata": {},
   "outputs": [
    {
     "name": "stdout",
     "output_type": "stream",
     "text": [
      "       #                 Player Team  GP   MPG   FGM   FGA   FG%  3PM   3PA  \\\n",
      "0      1           James Harden  HOU  72  35.4   9.0  20.1  .449  3.7  10.0   \n",
      "1      2          Anthony Davis  NOP  75  36.4  10.4  19.5  .534  0.7   2.2   \n",
      "2      3           LeBron James  CLE  82  36.9  10.5  19.3  .542  1.8   5.0   \n",
      "3      4         Damian Lillard  POR  73  36.6   8.5  19.4  .439  3.1   8.6   \n",
      "4      5  Giannis Antetokounmpo  MIL  75  36.8   9.9  18.7  .529  0.6   1.9   \n",
      "5      6          Stephen Curry  GSW  51  32.0   8.4  16.9  .495  4.2   9.8   \n",
      "6      7           Kevin Durant  GSW  68  34.2   9.3  18.0  .516  2.5   6.1   \n",
      "7      8      Russell Westbrook  OKC  80  36.4   9.5  21.1  .449  1.2   4.1   \n",
      "8      9           Kyrie Irving  BOS  60  32.2   8.9  18.1  .491  2.8   6.8   \n",
      "9     10      LaMarcus Aldridge  SAS  75  33.4   9.2  18.0  .510  0.4   1.2   \n",
      "10    11         Victor Oladipo  IND  75  34.0   8.5  17.9  .477  2.1   5.8   \n",
      "11    12          DeMar DeRozan  TOR  80  33.9   8.1  17.7  .456  1.1   3.6   \n",
      "12    13            Joel Embiid  PHI  63  30.4   8.1  16.8  .483  1.0   3.4   \n",
      "13    14           Bradley Beal  WAS  82  36.3   8.3  18.1  .460  2.4   6.5   \n",
      "14    15           Lou Williams  LAC  79  32.8   7.4  16.9  .435  2.4   6.6   \n",
      "15    16           Jimmy Butler  MIN  59  36.7   7.4  15.6  .474  1.2   3.4   \n",
      "16    17           Kemba Walker  CHA  80  34.2   7.3  17.0  .431  2.9   7.5   \n",
      "17    18            Paul George  OKC  79  36.6   7.3  17.0  .430  3.1   7.7   \n",
      "18    19          Blake Griffin  DET  58  34.0   7.5  17.2  .438  1.9   5.6   \n",
      "19    20          C.J. McCollum  POR  81  36.1   8.2  18.6  .443  2.3   5.9   \n",
      "20    21     Karl-Anthony Towns  MIN  82  35.6   7.8  14.3  .545  1.5   3.5   \n",
      "21    22       Donovan Mitchell  UTA  79  33.4   7.5  17.2  .437  2.4   7.0   \n",
      "22    23        Khris Middleton  MIL  82  36.4   7.2  15.5  .466  1.8   5.0   \n",
      "23    24          Klay Thompson  GSW  73  34.3   7.9  16.1  .488  3.1   7.1   \n",
      "24    25            T.J. Warren  PHX  65  33.0   8.1  16.4  .498  0.3   1.4   \n",
      "25    26        Dennis Schroder  ATL  67  31.0   7.5  17.1  .436  1.1   3.9   \n",
      "26    27           Jrue Holiday  NOP  81  36.1   7.6  15.4  .494  1.5   4.4   \n",
      "27    28        Harrison Barnes  DAL  77  34.2   7.0  15.7  .445  1.5   4.3   \n",
      "28    29             Chris Paul  HOU  58  31.8   6.3  13.8  .460  2.5   6.5   \n",
      "29    30          Tobias Harris  LAC  80  33.4   7.0  15.3  .460  2.3   5.6   \n",
      "..   ...                    ...  ...  ..   ...   ...   ...   ...  ...   ...   \n",
      "249  250             Thon Maker  MIL  74  16.7   1.8   4.3  .411  0.4   1.4   \n",
      "250  251           JaVale McGee  GSW  65   9.5   2.1   3.4  .621  0.0   0.1   \n",
      "251  252            Ian Mahinmi  WAS  77  14.9   1.8   3.2  .556  0.0   0.0   \n",
      "252  253           Alex Abrines  OKC  75  15.1   1.5   3.9  .395  1.1   2.9   \n",
      "253  254           Amir Johnson  PHI  74  15.8   1.9   3.5  .538  0.1   0.4   \n",
      "254  255            Jordan Bell  GSW  57  14.2   2.0   3.2  .627  0.0   0.1   \n",
      "255  256          Jose Calderon  CLE  57  16.0   1.6   3.2  .503  0.8   1.7   \n",
      "256  257           Zach Collins  POR  66  15.8   1.7   4.4  .398  0.5   1.7   \n",
      "257  258         Treveon Graham  CHA  63  16.7   1.5   3.5  .434  0.6   1.5   \n",
      "258  259           Shane Larkin  BOS  54  14.3   1.6   4.1  .384  0.6   1.6   \n",
      "259  260             Sam Dekker  LAC  73  12.1   1.8   3.5  .494  0.1   0.8   \n",
      "260  261           Lance Thomas  NYK  73  18.5   1.4   3.7  .382  0.7   1.7   \n",
      "261  262           Kevon Looney  GSW  66  13.8   1.7   2.9  .580  0.0   0.1   \n",
      "262  263          Patrick McCaw  GSW  57  16.9   1.6   3.9  .409  0.3   1.4   \n",
      "263  264             Cedi Osman  CLE  61  11.0   1.5   3.0  .484  0.5   1.4   \n",
      "264  265      Patrick Patterson  OKC  82  15.5   1.3   3.2  .398  0.8   2.1   \n",
      "265  266    Sindarius Thornwell  LAC  73  15.8   1.4   3.2  .429  0.3   0.8   \n",
      "266  267          Wesley Iwundu  ORL  62  16.5   1.5   3.5  .427  0.1   0.7   \n",
      "267  268            Tarik Black  HOU  51  10.5   1.5   2.5  .591  0.0   0.2   \n",
      "268  269            Salah Mejri  DAL  61  11.9   1.4   2.2  .642  0.0   0.0   \n",
      "269  270          Malik Beasley  DEN  62   9.4   1.2   2.9  .410  0.5   1.3   \n",
      "270  271      Terrance Ferguson  OKC  61  12.5   1.1   2.8  .414  0.7   2.0   \n",
      "271  272            Abdel Nader  BOS  48  10.9   1.0   3.1  .336  0.5   1.4   \n",
      "272  273            Tim Frazier  WAS  59  14.2   1.2   2.9  .395  0.3   0.9   \n",
      "273  274           Semi Ojeleye  BOS  73  15.8   0.9   2.6  .346  0.5   1.7   \n",
      "274  275              Ekpe Udoh  UTA  63  12.8   1.0   1.9  .500  0.0   0.0   \n",
      "275  276           Josh Huestis  OKC  69  14.2   0.9   2.6  .330  0.5   1.7   \n",
      "276  277           Brandon Paul  SAS  64   9.0   0.9   2.0  .433  0.2   0.8   \n",
      "277  278          Eric Moreland  DET  67  12.0   1.0   1.8  .541  0.0   0.0   \n",
      "278  279        DeAndre Liggins  NOP  58  12.5   0.7   1.8  .377  0.3   0.9   \n",
      "\n",
      "     ...    FT%  TOV   PF  ORB  DRB   RPG   APG  SPG  BPG   PPG  \n",
      "0    ...   .858  4.4  2.3  0.6  4.8   5.4   8.8  1.8  0.7  30.4  \n",
      "1    ...   .828  2.2  2.1  2.5  8.6  11.1   2.3  1.5  2.6  28.1  \n",
      "2    ...   .731  4.2  1.7  1.2  7.5   8.6   9.1  1.4  0.9  27.5  \n",
      "3    ...   .916  2.8  1.6  0.8  3.6   4.5   6.6  1.1  0.4  26.9  \n",
      "4    ...   .760  3.0  3.1  2.1  8.0  10.0   4.8  1.5  1.4  26.9  \n",
      "5    ...   .921  3.0  2.2  0.7  4.4   5.1   6.1  1.6  0.2  26.4  \n",
      "6    ...   .889  3.0  2.0  0.5  6.4   6.8   5.4  0.7  1.8  26.4  \n",
      "7    ...   .737  4.8  2.5  1.9  8.2  10.1  10.2  1.8  0.2  25.4  \n",
      "8    ...   .889  2.3  2.0  0.6  3.2   3.8   5.1  1.1  0.3  24.4  \n",
      "9    ...   .837  1.5  2.1  3.3  5.2   8.5   2.0  0.6  1.2  23.1  \n",
      "10   ...   .799  2.9  2.3  0.6  4.6   5.2   4.3  2.4  0.8  23.1  \n",
      "11   ...   .825  2.2  1.9  0.7  3.2   3.9   5.2  1.1  0.3  23.0  \n",
      "12   ...   .769  3.7  3.3  2.3  8.7  11.0   3.2  0.6  1.8  22.9  \n",
      "13   ...   .791  2.6  2.0  0.7  3.7   4.4   4.5  1.2  0.4  22.6  \n",
      "14   ...   .880  3.0  1.3  0.5  2.0   2.5   5.3  1.1  0.2  22.6  \n",
      "15   ...   .854  1.8  1.3  1.3  4.0   5.3   4.9  2.0  0.4  22.2  \n",
      "16   ...   .864  2.2  1.2  0.4  2.7   3.1   5.5  1.1  0.3  22.1  \n",
      "17   ...   .822  2.7  2.9  0.9  4.7   5.7   3.3  2.0  0.5  21.9  \n",
      "18   ...   .785  2.8  2.4  1.3  6.1   7.4   5.8  0.7  0.3  21.4  \n",
      "19   ...   .836  1.9  2.1  0.7  3.3   4.0   3.4  1.0  0.4  21.4  \n",
      "20   ...   .858  1.9  3.5  2.9  9.4  12.3   2.4  0.8  1.4  21.3  \n",
      "21   ...   .805  2.7  2.7  0.7  3.1   3.7   3.7  1.5  0.3  20.5  \n",
      "22   ...   .884  2.3  3.3  0.5  4.7   5.2   4.0  1.5  0.3  20.1  \n",
      "23   ...   .837  1.8  1.6  0.4  3.4   3.8   2.5  0.8  0.5  20.0  \n",
      "24   ...   .757  1.3  2.3  1.9  3.2   5.1   1.3  1.0  0.6  19.6  \n",
      "25   ...   .849  2.7  2.2  0.7  2.4   3.1   6.2  1.1  0.1  19.4  \n",
      "26   ...   .786  2.6  2.5  0.8  3.7   4.5   6.0  1.5  0.8  19.0  \n",
      "27   ...   .827  1.5  1.2  1.0  5.1   6.1   2.0  0.6  0.2  18.9  \n",
      "28   ...   .919  2.2  2.4  0.6  4.8   5.4   7.9  1.7  0.2  18.6  \n",
      "29   ...   .829  1.3  2.0  0.7  4.7   5.5   2.4  0.9  0.4  18.6  \n",
      "..   ...    ...  ...  ...  ...  ...   ...   ...  ...  ...   ...  \n",
      "249  ...   .699  0.6  2.2  1.0  2.0   3.0   0.6  0.5  0.7   4.8  \n",
      "250  ...   .731  0.4  1.4  0.9  1.7   2.6   0.5  0.3  0.9   4.8  \n",
      "251  ...   .703  1.3  3.0  1.8  2.3   4.1   0.7  0.5  0.5   4.8  \n",
      "252  ...   .848  0.3  1.7  0.3  1.2   1.5   0.4  0.5  0.1   4.7  \n",
      "253  ...   .612  0.7  2.6  1.7  2.8   4.5   1.6  0.6  0.6   4.6  \n",
      "254  ...   .682  0.9  1.6  1.1  2.6   3.6   1.8  0.6  1.0   4.6  \n",
      "255  ...   .800  0.7  1.4  0.2  1.2   1.5   2.1  0.5  0.0   4.5  \n",
      "256  ...   .643  0.9  2.0  0.7  2.7   3.3   0.8  0.3  0.5   4.4  \n",
      "257  ...   .695  0.4  1.7  0.7  1.3   1.9   0.9  0.5  0.0   4.3  \n",
      "258  ...   .865  0.6  1.1  0.3  1.4   1.7   1.8  0.5  0.0   4.3  \n",
      "259  ...   .661  0.5  1.0  0.6  1.8   2.4   0.5  0.3  0.1   4.2  \n",
      "260  ...   .830  0.6  1.8  0.6  1.8   2.4   0.6  0.4  0.2   4.1  \n",
      "261  ...   .545  0.5  1.6  1.3  2.0   3.3   0.6  0.5  0.8   4.0  \n",
      "262  ...   .765  0.7  1.2  0.3  1.2   1.4   1.4  0.8  0.2   4.0  \n",
      "263  ...   .565  0.5  1.3  0.3  1.7   2.0   0.7  0.4  0.0   3.9  \n",
      "264  ...   .870  0.4  1.1  0.4  2.0   2.4   0.7  0.6  0.3   3.9  \n",
      "265  ...   .670  0.7  1.7  0.5  1.5   1.9   0.9  0.7  0.3   3.9  \n",
      "266  ...   .723  0.5  1.3  0.6  1.6   2.2   0.9  0.5  0.2   3.7  \n",
      "267  ...   .460  0.7  2.1  1.2  2.0   3.2   0.3  0.4  0.6   3.5  \n",
      "268  ...   .576  0.6  2.0  1.4  2.6   4.0   0.6  0.4  1.1   3.5  \n",
      "269  ...   .667  0.4  0.6  0.2  0.9   1.1   0.5  0.2  0.1   3.2  \n",
      "270  ...   .900  0.2  1.4  0.3  0.5   0.8   0.3  0.4  0.2   3.1  \n",
      "271  ...   .590  0.7  0.9  0.3  1.2   1.5   0.5  0.3  0.2   3.0  \n",
      "272  ...   .767  1.0  1.6  0.3  1.6   1.9   3.3  0.8  0.1   3.0  \n",
      "273  ...   .610  0.3  1.2  0.5  1.7   2.2   0.3  0.3  0.1   2.7  \n",
      "274  ...   .750  0.3  1.7  1.1  1.3   2.4   0.8  0.7  1.2   2.6  \n",
      "275  ...   .300  0.4  1.2  0.6  1.7   2.3   0.3  0.2  0.6   2.3  \n",
      "276  ...   .512  0.5  0.9  0.1  1.0   1.1   0.6  0.4  0.1   2.3  \n",
      "277  ...   .379  0.6  1.7  1.2  2.9   4.1   1.2  0.5  0.8   2.1  \n",
      "278  ...   .400  0.3  1.4  0.1  1.2   1.3   0.8  0.6  0.2   1.7  \n",
      "\n",
      "[279 rows x 23 columns]\n"
     ]
    }
   ],
   "source": [
    "print(df)\n",
    "df.to_csv('2017-2018 NBA Stats.csv',index=False)"
   ]
  },
  {
   "cell_type": "code",
   "execution_count": null,
   "metadata": {},
   "outputs": [],
   "source": []
  },
  {
   "cell_type": "code",
   "execution_count": null,
   "metadata": {},
   "outputs": [],
   "source": []
  },
  {
   "cell_type": "code",
   "execution_count": null,
   "metadata": {},
   "outputs": [],
   "source": []
  },
  {
   "cell_type": "code",
   "execution_count": null,
   "metadata": {},
   "outputs": [],
   "source": []
  },
  {
   "cell_type": "code",
   "execution_count": null,
   "metadata": {},
   "outputs": [],
   "source": []
  },
  {
   "cell_type": "code",
   "execution_count": null,
   "metadata": {},
   "outputs": [],
   "source": []
  },
  {
   "cell_type": "code",
   "execution_count": null,
   "metadata": {},
   "outputs": [],
   "source": []
  },
  {
   "cell_type": "code",
   "execution_count": null,
   "metadata": {},
   "outputs": [],
   "source": []
  },
  {
   "cell_type": "code",
   "execution_count": null,
   "metadata": {},
   "outputs": [],
   "source": []
  },
  {
   "cell_type": "code",
   "execution_count": null,
   "metadata": {},
   "outputs": [],
   "source": []
  },
  {
   "cell_type": "code",
   "execution_count": null,
   "metadata": {},
   "outputs": [],
   "source": []
  },
  {
   "cell_type": "code",
   "execution_count": null,
   "metadata": {},
   "outputs": [],
   "source": []
  }
 ],
 "metadata": {
  "kernelspec": {
   "display_name": "Python 3",
   "language": "python",
   "name": "python3"
  },
  "language_info": {
   "codemirror_mode": {
    "name": "ipython",
    "version": 3
   },
   "file_extension": ".py",
   "mimetype": "text/x-python",
   "name": "python",
   "nbconvert_exporter": "python",
   "pygments_lexer": "ipython3",
   "version": "3.7.2"
  }
 },
 "nbformat": 4,
 "nbformat_minor": 2
}
